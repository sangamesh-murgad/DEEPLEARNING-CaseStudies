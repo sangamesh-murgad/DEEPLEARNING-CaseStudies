{
  "nbformat": 4,
  "nbformat_minor": 0,
  "metadata": {
    "colab": {
      "name": "06_NLP_tensorflow_Disaster_noDisaster_classify.ipynb",
      "provenance": [],
      "toc_visible": true,
      "collapsed_sections": [
        "Z6eC_NMfoMqA",
        "2yGJG7XCqc86",
        "h0NJa7fq5Rnp",
        "MuPKXT_TIi4v",
        "kW4khU4DLXFE",
        "556WnNyF3KV8",
        "9ijPNBWikkHH",
        "5rF_aMYerDfL",
        "a-t3wd7wkWTv"
      ]
    },
    "kernelspec": {
      "name": "python3",
      "display_name": "Python 3"
    },
    "language_info": {
      "name": "python"
    },
    "accelerator": "GPU"
  },
  "cells": [
    {
      "cell_type": "code",
      "metadata": {
        "id": "6474HBp2RzGF",
        "colab": {
          "base_uri": "https://localhost:8080/"
        },
        "outputId": "a888f608-1522-46dd-b3dc-caab7114413c"
      },
      "source": [
        "# Check for GPU\n",
        "# !nvidia-smi -L\n",
        "!nvidia-smi "
      ],
      "execution_count": 1,
      "outputs": [
        {
          "output_type": "stream",
          "name": "stdout",
          "text": [
            "Thu Jan 13 14:19:49 2022       \n",
            "+-----------------------------------------------------------------------------+\n",
            "| NVIDIA-SMI 495.46       Driver Version: 460.32.03    CUDA Version: 11.2     |\n",
            "|-------------------------------+----------------------+----------------------+\n",
            "| GPU  Name        Persistence-M| Bus-Id        Disp.A | Volatile Uncorr. ECC |\n",
            "| Fan  Temp  Perf  Pwr:Usage/Cap|         Memory-Usage | GPU-Util  Compute M. |\n",
            "|                               |                      |               MIG M. |\n",
            "|===============================+======================+======================|\n",
            "|   0  Tesla T4            Off  | 00000000:00:04.0 Off |                    0 |\n",
            "| N/A   64C    P8    11W /  70W |      0MiB / 15109MiB |      0%      Default |\n",
            "|                               |                      |                  N/A |\n",
            "+-------------------------------+----------------------+----------------------+\n",
            "                                                                               \n",
            "+-----------------------------------------------------------------------------+\n",
            "| Processes:                                                                  |\n",
            "|  GPU   GI   CI        PID   Type   Process name                  GPU Memory |\n",
            "|        ID   ID                                                   Usage      |\n",
            "|=============================================================================|\n",
            "|  No running processes found                                                 |\n",
            "+-----------------------------------------------------------------------------+\n"
          ]
        }
      ]
    },
    {
      "cell_type": "markdown",
      "metadata": {
        "id": "jjXapCe7TBK0"
      },
      "source": [
        "# Get helper functions\n",
        "\n"
      ]
    },
    {
      "cell_type": "code",
      "metadata": {
        "colab": {
          "base_uri": "https://localhost:8080/"
        },
        "id": "zSBS2onKS15n",
        "outputId": "0fb09036-6522-4dea-ae0d-aeb3a1a61ba0"
      },
      "source": [
        "!wget https://raw.githubusercontent.com/mrdbourke/tensorflow-deep-learning/main/extras/helper_functions.py"
      ],
      "execution_count": 2,
      "outputs": [
        {
          "output_type": "stream",
          "name": "stdout",
          "text": [
            "--2022-01-13 14:19:49--  https://raw.githubusercontent.com/mrdbourke/tensorflow-deep-learning/main/extras/helper_functions.py\n",
            "Resolving raw.githubusercontent.com (raw.githubusercontent.com)... 185.199.111.133, 185.199.110.133, 185.199.108.133, ...\n",
            "Connecting to raw.githubusercontent.com (raw.githubusercontent.com)|185.199.111.133|:443... connected.\n",
            "HTTP request sent, awaiting response... 200 OK\n",
            "Length: 10246 (10K) [text/plain]\n",
            "Saving to: ‘helper_functions.py’\n",
            "\n",
            "helper_functions.py 100%[===================>]  10.01K  --.-KB/s    in 0s      \n",
            "\n",
            "2022-01-13 14:19:49 (103 MB/s) - ‘helper_functions.py’ saved [10246/10246]\n",
            "\n"
          ]
        }
      ]
    },
    {
      "cell_type": "code",
      "metadata": {
        "id": "_oZGgUFJe7Fs"
      },
      "source": [
        "from helper_functions import unzip_data,create_tensorboard_callback,plot_loss_curves,compare_historys"
      ],
      "execution_count": 3,
      "outputs": []
    },
    {
      "cell_type": "markdown",
      "metadata": {
        "id": "uia5iLs8gI81"
      },
      "source": [
        "# Get Dataset"
      ]
    },
    {
      "cell_type": "code",
      "metadata": {
        "colab": {
          "base_uri": "https://localhost:8080/"
        },
        "id": "695Xf32FgQrt",
        "outputId": "a655856e-47a8-4cd4-abb1-895526195bb9"
      },
      "source": [
        "!wget https://storage.googleapis.com/ztm_tf_course/nlp_getting_started.zip"
      ],
      "execution_count": 4,
      "outputs": [
        {
          "output_type": "stream",
          "name": "stdout",
          "text": [
            "--2022-01-13 14:19:51--  https://storage.googleapis.com/ztm_tf_course/nlp_getting_started.zip\n",
            "Resolving storage.googleapis.com (storage.googleapis.com)... 172.217.193.128, 172.217.204.128, 172.217.203.128, ...\n",
            "Connecting to storage.googleapis.com (storage.googleapis.com)|172.217.193.128|:443... connected.\n",
            "HTTP request sent, awaiting response... 200 OK\n",
            "Length: 607343 (593K) [application/zip]\n",
            "Saving to: ‘nlp_getting_started.zip’\n",
            "\n",
            "\rnlp_getting_started   0%[                    ]       0  --.-KB/s               \rnlp_getting_started 100%[===================>] 593.11K  --.-KB/s    in 0.004s  \n",
            "\n",
            "2022-01-13 14:19:51 (145 MB/s) - ‘nlp_getting_started.zip’ saved [607343/607343]\n",
            "\n"
          ]
        }
      ]
    },
    {
      "cell_type": "code",
      "metadata": {
        "id": "vsN8cUeeg43s"
      },
      "source": [
        "# Unzip Data\n",
        "\n",
        "unzip_data( 'nlp_getting_started.zip')"
      ],
      "execution_count": 5,
      "outputs": []
    },
    {
      "cell_type": "markdown",
      "metadata": {
        "id": "oxdgztoFhGxj"
      },
      "source": [
        "# Visualizing the Text Data"
      ]
    },
    {
      "cell_type": "code",
      "metadata": {
        "id": "aOg_VNv9h8hA"
      },
      "source": [
        "import pandas as pd\n",
        "train_df = pd.read_csv('train.csv')\n",
        "test_df = pd.read_csv('test.csv')"
      ],
      "execution_count": 6,
      "outputs": []
    },
    {
      "cell_type": "code",
      "metadata": {
        "colab": {
          "base_uri": "https://localhost:8080/",
          "height": 206
        },
        "id": "AB3Dkgeji0ok",
        "outputId": "0905171a-ec90-48e7-9295-4c401bb4f666"
      },
      "source": [
        "train_df.head()"
      ],
      "execution_count": 7,
      "outputs": [
        {
          "output_type": "execute_result",
          "data": {
            "text/html": [
              "\n",
              "  <div id=\"df-d635831f-a97a-4568-b444-a98a3044a8ec\">\n",
              "    <div class=\"colab-df-container\">\n",
              "      <div>\n",
              "<style scoped>\n",
              "    .dataframe tbody tr th:only-of-type {\n",
              "        vertical-align: middle;\n",
              "    }\n",
              "\n",
              "    .dataframe tbody tr th {\n",
              "        vertical-align: top;\n",
              "    }\n",
              "\n",
              "    .dataframe thead th {\n",
              "        text-align: right;\n",
              "    }\n",
              "</style>\n",
              "<table border=\"1\" class=\"dataframe\">\n",
              "  <thead>\n",
              "    <tr style=\"text-align: right;\">\n",
              "      <th></th>\n",
              "      <th>id</th>\n",
              "      <th>keyword</th>\n",
              "      <th>location</th>\n",
              "      <th>text</th>\n",
              "      <th>target</th>\n",
              "    </tr>\n",
              "  </thead>\n",
              "  <tbody>\n",
              "    <tr>\n",
              "      <th>0</th>\n",
              "      <td>1</td>\n",
              "      <td>NaN</td>\n",
              "      <td>NaN</td>\n",
              "      <td>Our Deeds are the Reason of this #earthquake M...</td>\n",
              "      <td>1</td>\n",
              "    </tr>\n",
              "    <tr>\n",
              "      <th>1</th>\n",
              "      <td>4</td>\n",
              "      <td>NaN</td>\n",
              "      <td>NaN</td>\n",
              "      <td>Forest fire near La Ronge Sask. Canada</td>\n",
              "      <td>1</td>\n",
              "    </tr>\n",
              "    <tr>\n",
              "      <th>2</th>\n",
              "      <td>5</td>\n",
              "      <td>NaN</td>\n",
              "      <td>NaN</td>\n",
              "      <td>All residents asked to 'shelter in place' are ...</td>\n",
              "      <td>1</td>\n",
              "    </tr>\n",
              "    <tr>\n",
              "      <th>3</th>\n",
              "      <td>6</td>\n",
              "      <td>NaN</td>\n",
              "      <td>NaN</td>\n",
              "      <td>13,000 people receive #wildfires evacuation or...</td>\n",
              "      <td>1</td>\n",
              "    </tr>\n",
              "    <tr>\n",
              "      <th>4</th>\n",
              "      <td>7</td>\n",
              "      <td>NaN</td>\n",
              "      <td>NaN</td>\n",
              "      <td>Just got sent this photo from Ruby #Alaska as ...</td>\n",
              "      <td>1</td>\n",
              "    </tr>\n",
              "  </tbody>\n",
              "</table>\n",
              "</div>\n",
              "      <button class=\"colab-df-convert\" onclick=\"convertToInteractive('df-d635831f-a97a-4568-b444-a98a3044a8ec')\"\n",
              "              title=\"Convert this dataframe to an interactive table.\"\n",
              "              style=\"display:none;\">\n",
              "        \n",
              "  <svg xmlns=\"http://www.w3.org/2000/svg\" height=\"24px\"viewBox=\"0 0 24 24\"\n",
              "       width=\"24px\">\n",
              "    <path d=\"M0 0h24v24H0V0z\" fill=\"none\"/>\n",
              "    <path d=\"M18.56 5.44l.94 2.06.94-2.06 2.06-.94-2.06-.94-.94-2.06-.94 2.06-2.06.94zm-11 1L8.5 8.5l.94-2.06 2.06-.94-2.06-.94L8.5 2.5l-.94 2.06-2.06.94zm10 10l.94 2.06.94-2.06 2.06-.94-2.06-.94-.94-2.06-.94 2.06-2.06.94z\"/><path d=\"M17.41 7.96l-1.37-1.37c-.4-.4-.92-.59-1.43-.59-.52 0-1.04.2-1.43.59L10.3 9.45l-7.72 7.72c-.78.78-.78 2.05 0 2.83L4 21.41c.39.39.9.59 1.41.59.51 0 1.02-.2 1.41-.59l7.78-7.78 2.81-2.81c.8-.78.8-2.07 0-2.86zM5.41 20L4 18.59l7.72-7.72 1.47 1.35L5.41 20z\"/>\n",
              "  </svg>\n",
              "      </button>\n",
              "      \n",
              "  <style>\n",
              "    .colab-df-container {\n",
              "      display:flex;\n",
              "      flex-wrap:wrap;\n",
              "      gap: 12px;\n",
              "    }\n",
              "\n",
              "    .colab-df-convert {\n",
              "      background-color: #E8F0FE;\n",
              "      border: none;\n",
              "      border-radius: 50%;\n",
              "      cursor: pointer;\n",
              "      display: none;\n",
              "      fill: #1967D2;\n",
              "      height: 32px;\n",
              "      padding: 0 0 0 0;\n",
              "      width: 32px;\n",
              "    }\n",
              "\n",
              "    .colab-df-convert:hover {\n",
              "      background-color: #E2EBFA;\n",
              "      box-shadow: 0px 1px 2px rgba(60, 64, 67, 0.3), 0px 1px 3px 1px rgba(60, 64, 67, 0.15);\n",
              "      fill: #174EA6;\n",
              "    }\n",
              "\n",
              "    [theme=dark] .colab-df-convert {\n",
              "      background-color: #3B4455;\n",
              "      fill: #D2E3FC;\n",
              "    }\n",
              "\n",
              "    [theme=dark] .colab-df-convert:hover {\n",
              "      background-color: #434B5C;\n",
              "      box-shadow: 0px 1px 3px 1px rgba(0, 0, 0, 0.15);\n",
              "      filter: drop-shadow(0px 1px 2px rgba(0, 0, 0, 0.3));\n",
              "      fill: #FFFFFF;\n",
              "    }\n",
              "  </style>\n",
              "\n",
              "      <script>\n",
              "        const buttonEl =\n",
              "          document.querySelector('#df-d635831f-a97a-4568-b444-a98a3044a8ec button.colab-df-convert');\n",
              "        buttonEl.style.display =\n",
              "          google.colab.kernel.accessAllowed ? 'block' : 'none';\n",
              "\n",
              "        async function convertToInteractive(key) {\n",
              "          const element = document.querySelector('#df-d635831f-a97a-4568-b444-a98a3044a8ec');\n",
              "          const dataTable =\n",
              "            await google.colab.kernel.invokeFunction('convertToInteractive',\n",
              "                                                     [key], {});\n",
              "          if (!dataTable) return;\n",
              "\n",
              "          const docLinkHtml = 'Like what you see? Visit the ' +\n",
              "            '<a target=\"_blank\" href=https://colab.research.google.com/notebooks/data_table.ipynb>data table notebook</a>'\n",
              "            + ' to learn more about interactive tables.';\n",
              "          element.innerHTML = '';\n",
              "          dataTable['output_type'] = 'display_data';\n",
              "          await google.colab.output.renderOutput(dataTable, element);\n",
              "          const docLink = document.createElement('div');\n",
              "          docLink.innerHTML = docLinkHtml;\n",
              "          element.appendChild(docLink);\n",
              "        }\n",
              "      </script>\n",
              "    </div>\n",
              "  </div>\n",
              "  "
            ],
            "text/plain": [
              "   id keyword  ...                                               text target\n",
              "0   1     NaN  ...  Our Deeds are the Reason of this #earthquake M...      1\n",
              "1   4     NaN  ...             Forest fire near La Ronge Sask. Canada      1\n",
              "2   5     NaN  ...  All residents asked to 'shelter in place' are ...      1\n",
              "3   6     NaN  ...  13,000 people receive #wildfires evacuation or...      1\n",
              "4   7     NaN  ...  Just got sent this photo from Ruby #Alaska as ...      1\n",
              "\n",
              "[5 rows x 5 columns]"
            ]
          },
          "metadata": {},
          "execution_count": 7
        }
      ]
    },
    {
      "cell_type": "code",
      "metadata": {
        "colab": {
          "base_uri": "https://localhost:8080/",
          "height": 35
        },
        "id": "0jKYYWYgjFyc",
        "outputId": "db0cf953-eca3-450f-de44-b8146037304c"
      },
      "source": [
        "train_df.text[1]"
      ],
      "execution_count": 8,
      "outputs": [
        {
          "output_type": "execute_result",
          "data": {
            "application/vnd.google.colaboratory.intrinsic+json": {
              "type": "string"
            },
            "text/plain": [
              "'Forest fire near La Ronge Sask. Canada'"
            ]
          },
          "metadata": {},
          "execution_count": 8
        }
      ]
    },
    {
      "cell_type": "code",
      "metadata": {
        "colab": {
          "base_uri": "https://localhost:8080/",
          "height": 206
        },
        "id": "rW4UB5s4jQpQ",
        "outputId": "ccf498f1-3182-4aa7-f7c2-65bca527e496"
      },
      "source": [
        "train_df_shuffled = train_df.sample(frac=1,random_state=42)\n",
        "train_df_shuffled.head()"
      ],
      "execution_count": 9,
      "outputs": [
        {
          "output_type": "execute_result",
          "data": {
            "text/html": [
              "\n",
              "  <div id=\"df-e33b6db1-a9b7-4114-9c35-bb2eb57616e8\">\n",
              "    <div class=\"colab-df-container\">\n",
              "      <div>\n",
              "<style scoped>\n",
              "    .dataframe tbody tr th:only-of-type {\n",
              "        vertical-align: middle;\n",
              "    }\n",
              "\n",
              "    .dataframe tbody tr th {\n",
              "        vertical-align: top;\n",
              "    }\n",
              "\n",
              "    .dataframe thead th {\n",
              "        text-align: right;\n",
              "    }\n",
              "</style>\n",
              "<table border=\"1\" class=\"dataframe\">\n",
              "  <thead>\n",
              "    <tr style=\"text-align: right;\">\n",
              "      <th></th>\n",
              "      <th>id</th>\n",
              "      <th>keyword</th>\n",
              "      <th>location</th>\n",
              "      <th>text</th>\n",
              "      <th>target</th>\n",
              "    </tr>\n",
              "  </thead>\n",
              "  <tbody>\n",
              "    <tr>\n",
              "      <th>2644</th>\n",
              "      <td>3796</td>\n",
              "      <td>destruction</td>\n",
              "      <td>NaN</td>\n",
              "      <td>So you have a new weapon that can cause un-ima...</td>\n",
              "      <td>1</td>\n",
              "    </tr>\n",
              "    <tr>\n",
              "      <th>2227</th>\n",
              "      <td>3185</td>\n",
              "      <td>deluge</td>\n",
              "      <td>NaN</td>\n",
              "      <td>The f$&amp;amp;@ing things I do for #GISHWHES Just...</td>\n",
              "      <td>0</td>\n",
              "    </tr>\n",
              "    <tr>\n",
              "      <th>5448</th>\n",
              "      <td>7769</td>\n",
              "      <td>police</td>\n",
              "      <td>UK</td>\n",
              "      <td>DT @georgegalloway: RT @Galloway4Mayor: ÛÏThe...</td>\n",
              "      <td>1</td>\n",
              "    </tr>\n",
              "    <tr>\n",
              "      <th>132</th>\n",
              "      <td>191</td>\n",
              "      <td>aftershock</td>\n",
              "      <td>NaN</td>\n",
              "      <td>Aftershock back to school kick off was great. ...</td>\n",
              "      <td>0</td>\n",
              "    </tr>\n",
              "    <tr>\n",
              "      <th>6845</th>\n",
              "      <td>9810</td>\n",
              "      <td>trauma</td>\n",
              "      <td>Montgomery County, MD</td>\n",
              "      <td>in response to trauma Children of Addicts deve...</td>\n",
              "      <td>0</td>\n",
              "    </tr>\n",
              "  </tbody>\n",
              "</table>\n",
              "</div>\n",
              "      <button class=\"colab-df-convert\" onclick=\"convertToInteractive('df-e33b6db1-a9b7-4114-9c35-bb2eb57616e8')\"\n",
              "              title=\"Convert this dataframe to an interactive table.\"\n",
              "              style=\"display:none;\">\n",
              "        \n",
              "  <svg xmlns=\"http://www.w3.org/2000/svg\" height=\"24px\"viewBox=\"0 0 24 24\"\n",
              "       width=\"24px\">\n",
              "    <path d=\"M0 0h24v24H0V0z\" fill=\"none\"/>\n",
              "    <path d=\"M18.56 5.44l.94 2.06.94-2.06 2.06-.94-2.06-.94-.94-2.06-.94 2.06-2.06.94zm-11 1L8.5 8.5l.94-2.06 2.06-.94-2.06-.94L8.5 2.5l-.94 2.06-2.06.94zm10 10l.94 2.06.94-2.06 2.06-.94-2.06-.94-.94-2.06-.94 2.06-2.06.94z\"/><path d=\"M17.41 7.96l-1.37-1.37c-.4-.4-.92-.59-1.43-.59-.52 0-1.04.2-1.43.59L10.3 9.45l-7.72 7.72c-.78.78-.78 2.05 0 2.83L4 21.41c.39.39.9.59 1.41.59.51 0 1.02-.2 1.41-.59l7.78-7.78 2.81-2.81c.8-.78.8-2.07 0-2.86zM5.41 20L4 18.59l7.72-7.72 1.47 1.35L5.41 20z\"/>\n",
              "  </svg>\n",
              "      </button>\n",
              "      \n",
              "  <style>\n",
              "    .colab-df-container {\n",
              "      display:flex;\n",
              "      flex-wrap:wrap;\n",
              "      gap: 12px;\n",
              "    }\n",
              "\n",
              "    .colab-df-convert {\n",
              "      background-color: #E8F0FE;\n",
              "      border: none;\n",
              "      border-radius: 50%;\n",
              "      cursor: pointer;\n",
              "      display: none;\n",
              "      fill: #1967D2;\n",
              "      height: 32px;\n",
              "      padding: 0 0 0 0;\n",
              "      width: 32px;\n",
              "    }\n",
              "\n",
              "    .colab-df-convert:hover {\n",
              "      background-color: #E2EBFA;\n",
              "      box-shadow: 0px 1px 2px rgba(60, 64, 67, 0.3), 0px 1px 3px 1px rgba(60, 64, 67, 0.15);\n",
              "      fill: #174EA6;\n",
              "    }\n",
              "\n",
              "    [theme=dark] .colab-df-convert {\n",
              "      background-color: #3B4455;\n",
              "      fill: #D2E3FC;\n",
              "    }\n",
              "\n",
              "    [theme=dark] .colab-df-convert:hover {\n",
              "      background-color: #434B5C;\n",
              "      box-shadow: 0px 1px 3px 1px rgba(0, 0, 0, 0.15);\n",
              "      filter: drop-shadow(0px 1px 2px rgba(0, 0, 0, 0.3));\n",
              "      fill: #FFFFFF;\n",
              "    }\n",
              "  </style>\n",
              "\n",
              "      <script>\n",
              "        const buttonEl =\n",
              "          document.querySelector('#df-e33b6db1-a9b7-4114-9c35-bb2eb57616e8 button.colab-df-convert');\n",
              "        buttonEl.style.display =\n",
              "          google.colab.kernel.accessAllowed ? 'block' : 'none';\n",
              "\n",
              "        async function convertToInteractive(key) {\n",
              "          const element = document.querySelector('#df-e33b6db1-a9b7-4114-9c35-bb2eb57616e8');\n",
              "          const dataTable =\n",
              "            await google.colab.kernel.invokeFunction('convertToInteractive',\n",
              "                                                     [key], {});\n",
              "          if (!dataTable) return;\n",
              "\n",
              "          const docLinkHtml = 'Like what you see? Visit the ' +\n",
              "            '<a target=\"_blank\" href=https://colab.research.google.com/notebooks/data_table.ipynb>data table notebook</a>'\n",
              "            + ' to learn more about interactive tables.';\n",
              "          element.innerHTML = '';\n",
              "          dataTable['output_type'] = 'display_data';\n",
              "          await google.colab.output.renderOutput(dataTable, element);\n",
              "          const docLink = document.createElement('div');\n",
              "          docLink.innerHTML = docLinkHtml;\n",
              "          element.appendChild(docLink);\n",
              "        }\n",
              "      </script>\n",
              "    </div>\n",
              "  </div>\n",
              "  "
            ],
            "text/plain": [
              "        id  ... target\n",
              "2644  3796  ...      1\n",
              "2227  3185  ...      0\n",
              "5448  7769  ...      1\n",
              "132    191  ...      0\n",
              "6845  9810  ...      0\n",
              "\n",
              "[5 rows x 5 columns]"
            ]
          },
          "metadata": {},
          "execution_count": 9
        }
      ]
    },
    {
      "cell_type": "code",
      "metadata": {
        "colab": {
          "base_uri": "https://localhost:8080/",
          "height": 206
        },
        "id": "hUIuBa10jjJB",
        "outputId": "5ee2d3a5-06e6-4a88-f082-467d26d5050b"
      },
      "source": [
        "# Getting femiliar with Test Data\n",
        "\n",
        "test_df.head()"
      ],
      "execution_count": 10,
      "outputs": [
        {
          "output_type": "execute_result",
          "data": {
            "text/html": [
              "\n",
              "  <div id=\"df-985712ca-5478-4042-96e2-de3f3a7f0836\">\n",
              "    <div class=\"colab-df-container\">\n",
              "      <div>\n",
              "<style scoped>\n",
              "    .dataframe tbody tr th:only-of-type {\n",
              "        vertical-align: middle;\n",
              "    }\n",
              "\n",
              "    .dataframe tbody tr th {\n",
              "        vertical-align: top;\n",
              "    }\n",
              "\n",
              "    .dataframe thead th {\n",
              "        text-align: right;\n",
              "    }\n",
              "</style>\n",
              "<table border=\"1\" class=\"dataframe\">\n",
              "  <thead>\n",
              "    <tr style=\"text-align: right;\">\n",
              "      <th></th>\n",
              "      <th>id</th>\n",
              "      <th>keyword</th>\n",
              "      <th>location</th>\n",
              "      <th>text</th>\n",
              "    </tr>\n",
              "  </thead>\n",
              "  <tbody>\n",
              "    <tr>\n",
              "      <th>0</th>\n",
              "      <td>0</td>\n",
              "      <td>NaN</td>\n",
              "      <td>NaN</td>\n",
              "      <td>Just happened a terrible car crash</td>\n",
              "    </tr>\n",
              "    <tr>\n",
              "      <th>1</th>\n",
              "      <td>2</td>\n",
              "      <td>NaN</td>\n",
              "      <td>NaN</td>\n",
              "      <td>Heard about #earthquake is different cities, s...</td>\n",
              "    </tr>\n",
              "    <tr>\n",
              "      <th>2</th>\n",
              "      <td>3</td>\n",
              "      <td>NaN</td>\n",
              "      <td>NaN</td>\n",
              "      <td>there is a forest fire at spot pond, geese are...</td>\n",
              "    </tr>\n",
              "    <tr>\n",
              "      <th>3</th>\n",
              "      <td>9</td>\n",
              "      <td>NaN</td>\n",
              "      <td>NaN</td>\n",
              "      <td>Apocalypse lighting. #Spokane #wildfires</td>\n",
              "    </tr>\n",
              "    <tr>\n",
              "      <th>4</th>\n",
              "      <td>11</td>\n",
              "      <td>NaN</td>\n",
              "      <td>NaN</td>\n",
              "      <td>Typhoon Soudelor kills 28 in China and Taiwan</td>\n",
              "    </tr>\n",
              "  </tbody>\n",
              "</table>\n",
              "</div>\n",
              "      <button class=\"colab-df-convert\" onclick=\"convertToInteractive('df-985712ca-5478-4042-96e2-de3f3a7f0836')\"\n",
              "              title=\"Convert this dataframe to an interactive table.\"\n",
              "              style=\"display:none;\">\n",
              "        \n",
              "  <svg xmlns=\"http://www.w3.org/2000/svg\" height=\"24px\"viewBox=\"0 0 24 24\"\n",
              "       width=\"24px\">\n",
              "    <path d=\"M0 0h24v24H0V0z\" fill=\"none\"/>\n",
              "    <path d=\"M18.56 5.44l.94 2.06.94-2.06 2.06-.94-2.06-.94-.94-2.06-.94 2.06-2.06.94zm-11 1L8.5 8.5l.94-2.06 2.06-.94-2.06-.94L8.5 2.5l-.94 2.06-2.06.94zm10 10l.94 2.06.94-2.06 2.06-.94-2.06-.94-.94-2.06-.94 2.06-2.06.94z\"/><path d=\"M17.41 7.96l-1.37-1.37c-.4-.4-.92-.59-1.43-.59-.52 0-1.04.2-1.43.59L10.3 9.45l-7.72 7.72c-.78.78-.78 2.05 0 2.83L4 21.41c.39.39.9.59 1.41.59.51 0 1.02-.2 1.41-.59l7.78-7.78 2.81-2.81c.8-.78.8-2.07 0-2.86zM5.41 20L4 18.59l7.72-7.72 1.47 1.35L5.41 20z\"/>\n",
              "  </svg>\n",
              "      </button>\n",
              "      \n",
              "  <style>\n",
              "    .colab-df-container {\n",
              "      display:flex;\n",
              "      flex-wrap:wrap;\n",
              "      gap: 12px;\n",
              "    }\n",
              "\n",
              "    .colab-df-convert {\n",
              "      background-color: #E8F0FE;\n",
              "      border: none;\n",
              "      border-radius: 50%;\n",
              "      cursor: pointer;\n",
              "      display: none;\n",
              "      fill: #1967D2;\n",
              "      height: 32px;\n",
              "      padding: 0 0 0 0;\n",
              "      width: 32px;\n",
              "    }\n",
              "\n",
              "    .colab-df-convert:hover {\n",
              "      background-color: #E2EBFA;\n",
              "      box-shadow: 0px 1px 2px rgba(60, 64, 67, 0.3), 0px 1px 3px 1px rgba(60, 64, 67, 0.15);\n",
              "      fill: #174EA6;\n",
              "    }\n",
              "\n",
              "    [theme=dark] .colab-df-convert {\n",
              "      background-color: #3B4455;\n",
              "      fill: #D2E3FC;\n",
              "    }\n",
              "\n",
              "    [theme=dark] .colab-df-convert:hover {\n",
              "      background-color: #434B5C;\n",
              "      box-shadow: 0px 1px 3px 1px rgba(0, 0, 0, 0.15);\n",
              "      filter: drop-shadow(0px 1px 2px rgba(0, 0, 0, 0.3));\n",
              "      fill: #FFFFFF;\n",
              "    }\n",
              "  </style>\n",
              "\n",
              "      <script>\n",
              "        const buttonEl =\n",
              "          document.querySelector('#df-985712ca-5478-4042-96e2-de3f3a7f0836 button.colab-df-convert');\n",
              "        buttonEl.style.display =\n",
              "          google.colab.kernel.accessAllowed ? 'block' : 'none';\n",
              "\n",
              "        async function convertToInteractive(key) {\n",
              "          const element = document.querySelector('#df-985712ca-5478-4042-96e2-de3f3a7f0836');\n",
              "          const dataTable =\n",
              "            await google.colab.kernel.invokeFunction('convertToInteractive',\n",
              "                                                     [key], {});\n",
              "          if (!dataTable) return;\n",
              "\n",
              "          const docLinkHtml = 'Like what you see? Visit the ' +\n",
              "            '<a target=\"_blank\" href=https://colab.research.google.com/notebooks/data_table.ipynb>data table notebook</a>'\n",
              "            + ' to learn more about interactive tables.';\n",
              "          element.innerHTML = '';\n",
              "          dataTable['output_type'] = 'display_data';\n",
              "          await google.colab.output.renderOutput(dataTable, element);\n",
              "          const docLink = document.createElement('div');\n",
              "          docLink.innerHTML = docLinkHtml;\n",
              "          element.appendChild(docLink);\n",
              "        }\n",
              "      </script>\n",
              "    </div>\n",
              "  </div>\n",
              "  "
            ],
            "text/plain": [
              "   id keyword location                                               text\n",
              "0   0     NaN      NaN                 Just happened a terrible car crash\n",
              "1   2     NaN      NaN  Heard about #earthquake is different cities, s...\n",
              "2   3     NaN      NaN  there is a forest fire at spot pond, geese are...\n",
              "3   9     NaN      NaN           Apocalypse lighting. #Spokane #wildfires\n",
              "4  11     NaN      NaN      Typhoon Soudelor kills 28 in China and Taiwan"
            ]
          },
          "metadata": {},
          "execution_count": 10
        }
      ]
    },
    {
      "cell_type": "code",
      "metadata": {
        "colab": {
          "base_uri": "https://localhost:8080/"
        },
        "id": "-CriFSVNjugH",
        "outputId": "1293d687-58b1-4792-943b-a6ac4cde42a4"
      },
      "source": [
        "# How many examples of each class?\n",
        "train_df.target.value_counts()"
      ],
      "execution_count": 11,
      "outputs": [
        {
          "output_type": "execute_result",
          "data": {
            "text/plain": [
              "0    4342\n",
              "1    3271\n",
              "Name: target, dtype: int64"
            ]
          },
          "metadata": {},
          "execution_count": 11
        }
      ]
    },
    {
      "cell_type": "code",
      "metadata": {
        "colab": {
          "base_uri": "https://localhost:8080/"
        },
        "id": "vqrOMQ-fkjfg",
        "outputId": "74970cdc-2e60-49c0-c414-168126d34efb"
      },
      "source": [
        "# How many samples?\n",
        "\n",
        "len(train_df_shuffled), len(test_df)"
      ],
      "execution_count": 12,
      "outputs": [
        {
          "output_type": "execute_result",
          "data": {
            "text/plain": [
              "(7613, 3263)"
            ]
          },
          "metadata": {},
          "execution_count": 12
        }
      ]
    },
    {
      "cell_type": "code",
      "metadata": {
        "colab": {
          "base_uri": "https://localhost:8080/"
        },
        "id": "O3XhNJcukub2",
        "outputId": "7c2e516d-97a6-4881-93ec-bf5806436d3c"
      },
      "source": [
        "# Let's visualize some random training samples\n",
        "\n",
        "import random\n",
        "random_index = random.randint(0, len(train_df_shuffled)-5)\n",
        "for row in train_df_shuffled[['text','target']][random_index:random_index+5].itertuples():\n",
        "  _,text,target = row\n",
        "  print(f'Target: {target}', \"(Real Disaster)\" if target == 1 else \"(Not a Real Disaster\")\n",
        "  print(f'Text:\\n{text}\\n')\n",
        "  print(f'----\\n')"
      ],
      "execution_count": 13,
      "outputs": [
        {
          "output_type": "stream",
          "name": "stdout",
          "text": [
            "Target: 1 (Real Disaster)\n",
            "Text:\n",
            "'Food crematoria' in Russia provoke outrage amid crisis famine memories\n",
            "http://t.co/FelR5a1hBP\n",
            "\n",
            "----\n",
            "\n",
            "Target: 1 (Real Disaster)\n",
            "Text:\n",
            "The Latest: More homes razed by Northern California wildfire - http://t.co/BsGR67dyWY http://t.co/nDGgr6Xyqd\n",
            "\n",
            "----\n",
            "\n",
            "Target: 0 (Not a Real Disaster\n",
            "Text:\n",
            "--thus making @FemaleGilgamesh's assault useless.\n",
            "The spears collided with the dark force however did not penetrate.\n",
            "\n",
            "Due to the dark --\n",
            "\n",
            "----\n",
            "\n",
            "Target: 0 (Not a Real Disaster\n",
            "Text:\n",
            "@blazerfan not everyone can see ignoranceshe is Latinoand that is All she can ever benothing morebut an attack dog 4 a hate group GOP\n",
            "\n",
            "----\n",
            "\n",
            "Target: 0 (Not a Real Disaster\n",
            "Text:\n",
            "@BehindAShield @Wars_Goddess Sweet Lord.  (I collapse as my knees buckle)\n",
            "\n",
            "----\n",
            "\n"
          ]
        }
      ]
    },
    {
      "cell_type": "markdown",
      "metadata": {
        "id": "Z6eC_NMfoMqA"
      },
      "source": [
        "# split data into training and validation dataset"
      ]
    },
    {
      "cell_type": "code",
      "metadata": {
        "id": "Uw5B6Bd-oUQk"
      },
      "source": [
        "from sklearn.model_selection import train_test_split"
      ],
      "execution_count": 14,
      "outputs": []
    },
    {
      "cell_type": "code",
      "metadata": {
        "id": "UFn2ob9PodW5"
      },
      "source": [
        "train_sentences,val_sentences,train_labels,val_labels = train_test_split(train_df_shuffled['text'].to_numpy(),\n",
        "                                                                         train_df_shuffled['target'].to_numpy(),\n",
        "                                                                         test_size=0.1, random_state=42)"
      ],
      "execution_count": 15,
      "outputs": []
    },
    {
      "cell_type": "code",
      "metadata": {
        "colab": {
          "base_uri": "https://localhost:8080/"
        },
        "id": "DtFgc3DEpfw1",
        "outputId": "a9420819-9df9-4aee-8ef7-6850181176ad"
      },
      "source": [
        "len(train_sentences),len(val_sentences),len(train_labels),len(val_labels)"
      ],
      "execution_count": 16,
      "outputs": [
        {
          "output_type": "execute_result",
          "data": {
            "text/plain": [
              "(6851, 762, 6851, 762)"
            ]
          },
          "metadata": {},
          "execution_count": 16
        }
      ]
    },
    {
      "cell_type": "markdown",
      "metadata": {
        "id": "2yGJG7XCqc86"
      },
      "source": [
        "# Converting text into numbers"
      ]
    },
    {
      "cell_type": "code",
      "metadata": {
        "id": "Mk5lWmPNqglt"
      },
      "source": [
        "# text Tokenization\n",
        "import tensorflow as tf\n",
        "from tensorflow.keras.layers.experimental.preprocessing import TextVectorization"
      ],
      "execution_count": 17,
      "outputs": []
    },
    {
      "cell_type": "code",
      "metadata": {
        "id": "0ciNEAYBs0tv"
      },
      "source": [
        "text_vectorizer = TextVectorization(max_tokens=10000,\n",
        "                                    standardize='lower_and_strip_punctuation',\n",
        "                                    split= \"whitespace\",\n",
        "                                    ngrams = None,\n",
        "                                    output_mode = 'int',\n",
        "                                    output_sequence_length = 15,\n",
        "                                    pad_to_max_tokens = True)"
      ],
      "execution_count": 18,
      "outputs": []
    },
    {
      "cell_type": "code",
      "metadata": {
        "id": "L32sQG0JwzCF"
      },
      "source": [
        "text_vectorizer.adapt(train_sentences)"
      ],
      "execution_count": 19,
      "outputs": []
    },
    {
      "cell_type": "code",
      "metadata": {
        "colab": {
          "base_uri": "https://localhost:8080/"
        },
        "id": "yvc9YNz-0zQ3",
        "outputId": "371f34a7-95e0-48e1-a882-cd1ee133ec11"
      },
      "source": [
        "random_sentence = random.choice(train_sentences)\n",
        "print(f\"Original Sentence: \\n {random_sentence}\\\n",
        "      \\n\\nVectorized Version\")\n",
        "text_vectorizer([random_sentence])"
      ],
      "execution_count": 20,
      "outputs": [
        {
          "output_type": "stream",
          "name": "stdout",
          "text": [
            "Original Sentence: \n",
            " Just down drown me k I can't swim https://t.co/sJoEing76t      \n",
            "\n",
            "Vectorized Version\n"
          ]
        },
        {
          "output_type": "execute_result",
          "data": {
            "text/plain": [
              "<tf.Tensor: shape=(1, 15), dtype=int64, numpy=\n",
              "array([[  29,  134,  486,   31,    1,    8,   98, 2272,    1,    0,    0,\n",
              "           0,    0,    0,    0]])>"
            ]
          },
          "metadata": {},
          "execution_count": 20
        }
      ]
    },
    {
      "cell_type": "code",
      "metadata": {
        "colab": {
          "base_uri": "https://localhost:8080/"
        },
        "id": "mlH4kbDF2Ume",
        "outputId": "4c8debe5-6e4d-4ff4-8301-2a4c37645e97"
      },
      "source": [
        "# GEt the Unique words from vocabulaty\n",
        "words_in_vocab = text_vectorizer.get_vocabulary()\n",
        "top_10 = words_in_vocab[:10]\n",
        "least_10 = words_in_vocab[-10:]\n",
        "print(f\"No of words in vocab: {len(words_in_vocab)}\")\n",
        "print(f\"Top 10 repeating words: {top_10}\")\n",
        "print(f\"Least 10 repeating words: {least_10}\")"
      ],
      "execution_count": 21,
      "outputs": [
        {
          "output_type": "stream",
          "name": "stdout",
          "text": [
            "No of words in vocab: 10000\n",
            "Top 10 repeating words: ['', '[UNK]', 'the', 'a', 'in', 'to', 'of', 'and', 'i', 'is']\n",
            "Least 10 repeating words: ['painthey', 'painful', 'paine', 'paging', 'pageshi', 'pages', 'paeds', 'pads', 'padres', 'paddytomlinson1']\n"
          ]
        }
      ]
    },
    {
      "cell_type": "markdown",
      "metadata": {
        "id": "h0NJa7fq5Rnp"
      },
      "source": [
        "# Creating and using ebedding layer"
      ]
    },
    {
      "cell_type": "code",
      "metadata": {
        "id": "wMEq6vCI5VcU"
      },
      "source": [
        "from tensorflow.keras import layers\n",
        "\n",
        "embedding = layers.Embedding(input_dim = 10000,\n",
        "                             output_dim = 128,\n",
        "                             input_length = 15)"
      ],
      "execution_count": 22,
      "outputs": []
    },
    {
      "cell_type": "code",
      "metadata": {
        "colab": {
          "base_uri": "https://localhost:8080/"
        },
        "id": "1PvIoIz-6zRR",
        "outputId": "096e69b4-087b-4bb7-d75a-e1f1e7abec3e"
      },
      "source": [
        "embedding"
      ],
      "execution_count": 23,
      "outputs": [
        {
          "output_type": "execute_result",
          "data": {
            "text/plain": [
              "<keras.layers.embeddings.Embedding at 0x7f8392239810>"
            ]
          },
          "metadata": {},
          "execution_count": 23
        }
      ]
    },
    {
      "cell_type": "code",
      "metadata": {
        "colab": {
          "base_uri": "https://localhost:8080/"
        },
        "id": "mN1dcGMB62d3",
        "outputId": "a8593cd1-b6b4-439b-989e-cb40e31be011"
      },
      "source": [
        "# GEt random sentence from the training set\n",
        "\n",
        "random_sentence = random.choice(train_sentences)\n",
        "\n",
        "print(f'Original sentence: \\n {random_sentence}\\\n",
        "      \\n\\n Embedded Sentence:\\n')\n",
        "\n",
        "embedding(text_vectorizer([random_sentence]))"
      ],
      "execution_count": 24,
      "outputs": [
        {
          "output_type": "stream",
          "name": "stdout",
          "text": [
            "Original sentence: \n",
            " Enugu Government to demolish illegal structures at International Conference Centre http://t.co/7K5SHaiqIw      \n",
            "\n",
            " Embedded Sentence:\n",
            "\n"
          ]
        },
        {
          "output_type": "execute_result",
          "data": {
            "text/plain": [
              "<tf.Tensor: shape=(1, 15, 128), dtype=float32, numpy=\n",
              "array([[[ 0.02634182,  0.02373132,  0.03788872, ..., -0.04460553,\n",
              "         -0.02857485, -0.04360295],\n",
              "        [ 0.04992932,  0.0224409 ,  0.03780236, ...,  0.0356988 ,\n",
              "          0.00044657,  0.04913366],\n",
              "        [ 0.01730398,  0.02865735, -0.01327353, ..., -0.00553634,\n",
              "         -0.0359241 , -0.01727753],\n",
              "        ...,\n",
              "        [ 0.00450033, -0.00124891, -0.03897219, ...,  0.01418198,\n",
              "          0.04606939, -0.03713702],\n",
              "        [ 0.00450033, -0.00124891, -0.03897219, ...,  0.01418198,\n",
              "          0.04606939, -0.03713702],\n",
              "        [ 0.00450033, -0.00124891, -0.03897219, ...,  0.01418198,\n",
              "          0.04606939, -0.03713702]]], dtype=float32)>"
            ]
          },
          "metadata": {},
          "execution_count": 24
        }
      ]
    },
    {
      "cell_type": "markdown",
      "metadata": {
        "id": "MuPKXT_TIi4v"
      },
      "source": [
        "# Model Building\n",
        "- Base line naive bayes\n",
        "- feedforward \n",
        "- LSTM\n",
        "- GRU\n",
        "- Bidirectional LSTM\n",
        "- 1D Convolutional \n",
        "- Tensorflow hub - pretrained feature extractor - transfer learing\n",
        "- "
      ]
    },
    {
      "cell_type": "code",
      "metadata": {
        "colab": {
          "base_uri": "https://localhost:8080/"
        },
        "id": "4o4-SSWJA-3Q",
        "outputId": "7fd813a3-cfb5-4865-8fb0-85ab49f40838"
      },
      "source": [
        "from sklearn.feature_extraction.text import TfidfVectorizer\n",
        "from sklearn.naive_bayes import MultinomialNB\n",
        "from sklearn.pipeline import Pipeline\n",
        "\n",
        "# Create a Tokenization and modeling pipeline\n",
        "model_0 = Pipeline([\n",
        "                    ('tfidf', TfidfVectorizer()),\n",
        "                    ('clf', MultinomialNB())\n",
        "])\n",
        "\n",
        "# Fit the data into the pipeline\n",
        "\n",
        "model_0.fit(train_sentences,train_labels)"
      ],
      "execution_count": 25,
      "outputs": [
        {
          "output_type": "execute_result",
          "data": {
            "text/plain": [
              "Pipeline(steps=[('tfidf', TfidfVectorizer()), ('clf', MultinomialNB())])"
            ]
          },
          "metadata": {},
          "execution_count": 25
        }
      ]
    },
    {
      "cell_type": "code",
      "metadata": {
        "id": "cNKl4pdGBNU8",
        "colab": {
          "base_uri": "https://localhost:8080/"
        },
        "outputId": "999100fc-0de5-45a8-c088-5114ef389191"
      },
      "source": [
        "# Evluate our trained model\n",
        "baseline_score = model_0.score(val_sentences,val_labels)\n",
        "print(f'Our baseline model achieves an accuraty of: {baseline_score * 100:.2f}%')"
      ],
      "execution_count": 26,
      "outputs": [
        {
          "output_type": "stream",
          "name": "stdout",
          "text": [
            "Our baseline model achieves an accuraty of: 79.27%\n"
          ]
        }
      ]
    },
    {
      "cell_type": "code",
      "metadata": {
        "id": "g3SonpRgFE94",
        "colab": {
          "base_uri": "https://localhost:8080/"
        },
        "outputId": "9f8ca07f-bede-413f-abc7-109e2cb495d5"
      },
      "source": [
        "baseline_preds = model_0.predict(val_sentences)\n",
        "baseline_preds[:20]"
      ],
      "execution_count": 27,
      "outputs": [
        {
          "output_type": "execute_result",
          "data": {
            "text/plain": [
              "array([1, 1, 1, 0, 0, 1, 1, 1, 1, 0, 0, 1, 0, 0, 0, 0, 0, 0, 0, 1])"
            ]
          },
          "metadata": {},
          "execution_count": 27
        }
      ]
    },
    {
      "cell_type": "code",
      "metadata": {
        "id": "rrZwOIiZFmBb"
      },
      "source": [
        "from sklearn.metrics import accuracy_score, precision_score, recall_score, f1_score, precision_recall_fscore_support\n",
        "def metrics(y_true,y_pred):\n",
        "  accuracy = accuracy_score(y_true,y_pred)\n",
        "  # precision = precision_score(y_true,y_pred)\n",
        "  # recall = recall_score(y_true,y_pred)\n",
        "  Preci, recal, f1, suppo = precision_recall_fscore_support(y_true,y_pred,average='weighted')\n",
        "  # f1score = f1_score(y_true,y_pred)\n",
        "  # model_metrics = {'ModelAccuracy' : accuracy, 'ModelPrecision' : precision, 'ModelRecall' : recall, 'ModelF1_Score' : f1score}\n",
        "  prfs = { 'accuracy':accuracy, 'precision': Preci, 'recall':recal, 'f1':f1}\n",
        "  return prfs #model_metrics,"
      ],
      "execution_count": 28,
      "outputs": []
    },
    {
      "cell_type": "code",
      "metadata": {
        "id": "qEDRjBh8H5NB",
        "colab": {
          "base_uri": "https://localhost:8080/"
        },
        "outputId": "82e39991-4444-4bc7-8cc0-c5dc8e013b6f"
      },
      "source": [
        "metrics(baseline_preds,val_labels)"
      ],
      "execution_count": 29,
      "outputs": [
        {
          "output_type": "execute_result",
          "data": {
            "text/plain": [
              "{'accuracy': 0.7926509186351706,\n",
              " 'f1': 0.7990828614653861,\n",
              " 'precision': 0.8336022277575122,\n",
              " 'recall': 0.7926509186351706}"
            ]
          },
          "metadata": {},
          "execution_count": 29
        }
      ]
    },
    {
      "cell_type": "code",
      "metadata": {
        "id": "Hf7pnlm0KynG",
        "colab": {
          "base_uri": "https://localhost:8080/"
        },
        "outputId": "d40d4eea-0e5e-4be2-a765-691e294968b6"
      },
      "source": [
        "baseline_results = metrics(val_labels,baseline_preds)\n",
        "baseline_results"
      ],
      "execution_count": 30,
      "outputs": [
        {
          "output_type": "execute_result",
          "data": {
            "text/plain": [
              "{'accuracy': 0.7926509186351706,\n",
              " 'f1': 0.7862189758049549,\n",
              " 'precision': 0.8111390004213173,\n",
              " 'recall': 0.7926509186351706}"
            ]
          },
          "metadata": {},
          "execution_count": 30
        }
      ]
    },
    {
      "cell_type": "markdown",
      "metadata": {
        "id": "kW4khU4DLXFE"
      },
      "source": [
        "# Simple ANN model on text data"
      ]
    },
    {
      "cell_type": "code",
      "metadata": {
        "id": "K-Lp3XnkVOwp"
      },
      "source": [
        "from helper_functions import create_tensorboard_callback\n",
        "\n",
        "SAVE_DIR = 'model_logs'"
      ],
      "execution_count": 31,
      "outputs": []
    },
    {
      "cell_type": "code",
      "metadata": {
        "id": "15rYP9CXViFd"
      },
      "source": [
        "# build a model with functional API\n",
        "from tensorflow.keras import layers\n",
        "\n",
        "inputs = layers.Input(shape = (1), dtype='string')\n",
        "x = text_vectorizer(inputs)\n",
        "x = embedding(x)\n",
        "x = layers.GlobalAveragePooling1D()(x)\n",
        "output = layers.Dense(1, activation='sigmoid')(x)\n",
        "model_1 = tf.keras.Model(inputs,output, name = 'model_1_dense')"
      ],
      "execution_count": 32,
      "outputs": []
    },
    {
      "cell_type": "code",
      "metadata": {
        "id": "VCzHHq7cY75r"
      },
      "source": [
        "model_1.compile(optimizer=tf.keras.optimizers.Adam(),\n",
        "                loss = 'binary_crossentropy',\n",
        "                metrics = ['accuracy'])"
      ],
      "execution_count": 33,
      "outputs": []
    },
    {
      "cell_type": "code",
      "metadata": {
        "colab": {
          "base_uri": "https://localhost:8080/"
        },
        "id": "4DkcrQZFbW71",
        "outputId": "0e3d17c6-0c55-4ceb-8fde-c8a4786d5c6d"
      },
      "source": [
        "model_1.summary()"
      ],
      "execution_count": 34,
      "outputs": [
        {
          "output_type": "stream",
          "name": "stdout",
          "text": [
            "Model: \"model_1_dense\"\n",
            "_________________________________________________________________\n",
            " Layer (type)                Output Shape              Param #   \n",
            "=================================================================\n",
            " input_1 (InputLayer)        [(None, 1)]               0         \n",
            "                                                                 \n",
            " text_vectorization (TextVec  (None, 15)               0         \n",
            " torization)                                                     \n",
            "                                                                 \n",
            " embedding (Embedding)       (None, 15, 128)           1280000   \n",
            "                                                                 \n",
            " global_average_pooling1d (G  (None, 128)              0         \n",
            " lobalAveragePooling1D)                                          \n",
            "                                                                 \n",
            " dense (Dense)               (None, 1)                 129       \n",
            "                                                                 \n",
            "=================================================================\n",
            "Total params: 1,280,129\n",
            "Trainable params: 1,280,129\n",
            "Non-trainable params: 0\n",
            "_________________________________________________________________\n"
          ]
        }
      ]
    },
    {
      "cell_type": "code",
      "metadata": {
        "colab": {
          "base_uri": "https://localhost:8080/"
        },
        "id": "Evq3o8Ygaa0O",
        "outputId": "8c1bdaf9-89b5-41f0-ff74-5b3655aeacca"
      },
      "source": [
        "model_1.fit(x = train_sentences,\n",
        "            y = train_labels,\n",
        "            epochs = 5,\n",
        "            workers = -1,\n",
        "            validation_data = (val_sentences,val_labels),\n",
        "            callbacks = [create_tensorboard_callback(dir_name= SAVE_DIR,\n",
        "                                                     experiment_name = 'simple_dense_model')])"
      ],
      "execution_count": 35,
      "outputs": [
        {
          "output_type": "stream",
          "name": "stdout",
          "text": [
            "Saving TensorBoard log files to: model_logs/simple_dense_model/20220113-141955\n",
            "Epoch 1/5\n",
            "215/215 [==============================] - 3s 5ms/step - loss: 0.6139 - accuracy: 0.6866 - val_loss: 0.5364 - val_accuracy: 0.7480\n",
            "Epoch 2/5\n",
            "215/215 [==============================] - 1s 4ms/step - loss: 0.4422 - accuracy: 0.8177 - val_loss: 0.4735 - val_accuracy: 0.7874\n",
            "Epoch 3/5\n",
            "215/215 [==============================] - 1s 4ms/step - loss: 0.3477 - accuracy: 0.8628 - val_loss: 0.4567 - val_accuracy: 0.7900\n",
            "Epoch 4/5\n",
            "215/215 [==============================] - 1s 4ms/step - loss: 0.2849 - accuracy: 0.8901 - val_loss: 0.4655 - val_accuracy: 0.7927\n",
            "Epoch 5/5\n",
            "215/215 [==============================] - 1s 4ms/step - loss: 0.2389 - accuracy: 0.9115 - val_loss: 0.4771 - val_accuracy: 0.7795\n"
          ]
        },
        {
          "output_type": "execute_result",
          "data": {
            "text/plain": [
              "<keras.callbacks.History at 0x7f839221b090>"
            ]
          },
          "metadata": {},
          "execution_count": 35
        }
      ]
    },
    {
      "cell_type": "code",
      "metadata": {
        "id": "bkDrXf0yiK-C"
      },
      "source": [
        "model_1_pred = model_1.predict(val_sentences)"
      ],
      "execution_count": 36,
      "outputs": []
    },
    {
      "cell_type": "code",
      "metadata": {
        "id": "GekftZCOjDfl"
      },
      "source": [
        "model_1_pred = tf.squeeze(tf.round(model_1_pred))"
      ],
      "execution_count": 37,
      "outputs": []
    },
    {
      "cell_type": "code",
      "metadata": {
        "id": "9ePn4eBJiyqX",
        "colab": {
          "base_uri": "https://localhost:8080/"
        },
        "outputId": "e88d9f68-8b60-4b58-81c0-747bf50fea64"
      },
      "source": [
        "model_1.evaluate(x = val_sentences, y = val_labels)"
      ],
      "execution_count": 38,
      "outputs": [
        {
          "output_type": "stream",
          "name": "stdout",
          "text": [
            "24/24 [==============================] - 0s 3ms/step - loss: 0.4771 - accuracy: 0.7795\n"
          ]
        },
        {
          "output_type": "execute_result",
          "data": {
            "text/plain": [
              "[0.47710707783699036, 0.7795275449752808]"
            ]
          },
          "metadata": {},
          "execution_count": 38
        }
      ]
    },
    {
      "cell_type": "code",
      "metadata": {
        "id": "AUcxBN32kezN",
        "colab": {
          "base_uri": "https://localhost:8080/"
        },
        "outputId": "a9b32083-5187-4582-880a-44ed21887f64"
      },
      "source": [
        "embedding.weights"
      ],
      "execution_count": 39,
      "outputs": [
        {
          "output_type": "execute_result",
          "data": {
            "text/plain": [
              "[<tf.Variable 'embedding/embeddings:0' shape=(10000, 128) dtype=float32, numpy=\n",
              " array([[ 2.1115635e-02,  2.0398531e-02, -2.1076923e-02, ...,\n",
              "         -5.6329975e-03,  6.9153100e-02, -5.8080688e-02],\n",
              "        [-4.5399036e-02, -9.7964844e-03,  1.9743474e-04, ...,\n",
              "         -5.0190769e-02, -1.5451603e-02, -9.3217893e-04],\n",
              "        [-2.1233995e-02,  2.8064664e-02,  7.0239916e-03, ...,\n",
              "         -2.8121516e-02,  1.0567012e-02, -6.7916112e-03],\n",
              "        ...,\n",
              "        [ 3.3237521e-02, -5.8568493e-03, -2.1959687e-02, ...,\n",
              "         -2.0762110e-02,  1.2003519e-02, -4.6805382e-02],\n",
              "        [ 9.3416814e-03,  3.4597151e-02, -6.3368352e-05, ...,\n",
              "         -5.6785345e-02,  5.4657371e-03, -8.4668905e-02],\n",
              "        [ 4.0366869e-02,  5.1979441e-02,  7.4103862e-02, ...,\n",
              "         -6.6808186e-02,  5.8295533e-02, -7.0267774e-02]], dtype=float32)>]"
            ]
          },
          "metadata": {},
          "execution_count": 39
        }
      ]
    },
    {
      "cell_type": "code",
      "metadata": {
        "id": "ovFgEwC1lLVU",
        "colab": {
          "base_uri": "https://localhost:8080/"
        },
        "outputId": "b08d1ca0-88c6-49bd-e9fd-b3283aae8810"
      },
      "source": [
        "model_1.summary()"
      ],
      "execution_count": 40,
      "outputs": [
        {
          "output_type": "stream",
          "name": "stdout",
          "text": [
            "Model: \"model_1_dense\"\n",
            "_________________________________________________________________\n",
            " Layer (type)                Output Shape              Param #   \n",
            "=================================================================\n",
            " input_1 (InputLayer)        [(None, 1)]               0         \n",
            "                                                                 \n",
            " text_vectorization (TextVec  (None, 15)               0         \n",
            " torization)                                                     \n",
            "                                                                 \n",
            " embedding (Embedding)       (None, 15, 128)           1280000   \n",
            "                                                                 \n",
            " global_average_pooling1d (G  (None, 128)              0         \n",
            " lobalAveragePooling1D)                                          \n",
            "                                                                 \n",
            " dense (Dense)               (None, 1)                 129       \n",
            "                                                                 \n",
            "=================================================================\n",
            "Total params: 1,280,129\n",
            "Trainable params: 1,280,129\n",
            "Non-trainable params: 0\n",
            "_________________________________________________________________\n"
          ]
        }
      ]
    },
    {
      "cell_type": "code",
      "metadata": {
        "id": "VQMDEAlrlXQH",
        "colab": {
          "base_uri": "https://localhost:8080/"
        },
        "outputId": "2cbfc5fa-28d6-4b97-939a-f2b8c3a76cee"
      },
      "source": [
        "embed_weights = model_1.get_layer('embedding').get_weights()[0]\n",
        "embed_weights, type(embed_weights), embed_weights.shape"
      ],
      "execution_count": 41,
      "outputs": [
        {
          "output_type": "execute_result",
          "data": {
            "text/plain": [
              "(array([[ 2.1115635e-02,  2.0398531e-02, -2.1076923e-02, ...,\n",
              "         -5.6329975e-03,  6.9153100e-02, -5.8080688e-02],\n",
              "        [-4.5399036e-02, -9.7964844e-03,  1.9743474e-04, ...,\n",
              "         -5.0190769e-02, -1.5451603e-02, -9.3217893e-04],\n",
              "        [-2.1233995e-02,  2.8064664e-02,  7.0239916e-03, ...,\n",
              "         -2.8121516e-02,  1.0567012e-02, -6.7916112e-03],\n",
              "        ...,\n",
              "        [ 3.3237521e-02, -5.8568493e-03, -2.1959687e-02, ...,\n",
              "         -2.0762110e-02,  1.2003519e-02, -4.6805382e-02],\n",
              "        [ 9.3416814e-03,  3.4597151e-02, -6.3368352e-05, ...,\n",
              "         -5.6785345e-02,  5.4657371e-03, -8.4668905e-02],\n",
              "        [ 4.0366869e-02,  5.1979441e-02,  7.4103862e-02, ...,\n",
              "         -6.6808186e-02,  5.8295533e-02, -7.0267774e-02]], dtype=float32),\n",
              " numpy.ndarray,\n",
              " (10000, 128))"
            ]
          },
          "metadata": {},
          "execution_count": 41
        }
      ]
    },
    {
      "cell_type": "code",
      "metadata": {
        "id": "NzZdJ3HnwU7N",
        "colab": {
          "base_uri": "https://localhost:8080/"
        },
        "outputId": "ab30b706-4889-4a56-a13a-3687c3c9deb8"
      },
      "source": [
        "model_1_results = metrics(val_labels,model_1_pred)\n",
        "model_1_results"
      ],
      "execution_count": 42,
      "outputs": [
        {
          "output_type": "execute_result",
          "data": {
            "text/plain": [
              "{'accuracy': 0.7795275590551181,\n",
              " 'f1': 0.7771404562571971,\n",
              " 'precision': 0.7822644211580037,\n",
              " 'recall': 0.7795275590551181}"
            ]
          },
          "metadata": {},
          "execution_count": 42
        }
      ]
    },
    {
      "cell_type": "code",
      "metadata": {
        "id": "X78ZW4E9l0ra"
      },
      "source": [
        "def compare_baseline_to_new_results(baseline_results,model_1_results):\n",
        "   for key, value in baseline_results.items():\n",
        "     print(f'Baseline {key:>10}: {value:.2f}   New {key:>10}: {model_1_results[key]:.2f},   Difference {model_1_results[key]-value:.2f}')"
      ],
      "execution_count": 43,
      "outputs": []
    },
    {
      "cell_type": "code",
      "metadata": {
        "id": "H2N9Ypyjv34J",
        "colab": {
          "base_uri": "https://localhost:8080/"
        },
        "outputId": "013edd7c-b097-4127-9e0e-04fca3fb0597"
      },
      "source": [
        "compare_baseline_to_new_results(baseline_results,model_1_results)"
      ],
      "execution_count": 44,
      "outputs": [
        {
          "output_type": "stream",
          "name": "stdout",
          "text": [
            "Baseline   accuracy: 0.79   New   accuracy: 0.78,   Difference -0.01\n",
            "Baseline  precision: 0.81   New  precision: 0.78,   Difference -0.03\n",
            "Baseline     recall: 0.79   New     recall: 0.78,   Difference -0.01\n",
            "Baseline         f1: 0.79   New         f1: 0.78,   Difference -0.01\n"
          ]
        }
      ]
    },
    {
      "cell_type": "code",
      "metadata": {
        "id": "mTAIsS-1xKTz",
        "colab": {
          "base_uri": "https://localhost:8080/"
        },
        "outputId": "ea1bcfb4-3244-490b-b1f1-196792522cbe"
      },
      "source": [
        "words_in_vocab[:10]"
      ],
      "execution_count": 45,
      "outputs": [
        {
          "output_type": "execute_result",
          "data": {
            "text/plain": [
              "['', '[UNK]', 'the', 'a', 'in', 'to', 'of', 'and', 'i', 'is']"
            ]
          },
          "metadata": {},
          "execution_count": 45
        }
      ]
    },
    {
      "cell_type": "code",
      "metadata": {
        "id": "KlqMHGaHy84G",
        "colab": {
          "base_uri": "https://localhost:8080/"
        },
        "outputId": "6c256f2d-6a75-4390-c101-067aa57e1086"
      },
      "source": [
        "# Get the weight matrix of the embedding layer\n",
        "embed_weights = model_1.get_layer('embedding').get_weights()[0]\n",
        "print(embed_weights.shape)"
      ],
      "execution_count": 46,
      "outputs": [
        {
          "output_type": "stream",
          "name": "stdout",
          "text": [
            "(10000, 128)\n"
          ]
        }
      ]
    },
    {
      "cell_type": "code",
      "metadata": {
        "id": "36SW3KgjzqI9"
      },
      "source": [
        "# import io\n",
        "\n",
        "# # Create output writers\n",
        "# out_v = io.open(\"embedding_vectors.tsv\", \"w\", encoding=\"utf-8\")\n",
        "# out_m = io.open(\"embedding_metadata.tsv\", \"w\", encoding=\"utf-8\")\n",
        "\n",
        "# # Write embedding vectors and words to file\n",
        "# for num, word in enumerate(words_in_vocab):\n",
        "#   if num == 0: \n",
        "#      continue # skip padding token\n",
        "#   vec = embed_weights[num]\n",
        "#   out_m.write(word + \"\\n\") # write words to file\n",
        "#   out_v.write(\"\\t\".join([str(x) for x in vec]) + \"\\n\") # write corresponding word vector to file\n",
        "# out_v.close()\n",
        "# out_m.close()"
      ],
      "execution_count": 47,
      "outputs": []
    },
    {
      "cell_type": "code",
      "metadata": {
        "id": "7lwxa0P3z9dI"
      },
      "source": [
        "# Download files locally to upload to Embedding Projector\n",
        "# try:\n",
        "#   from google.colab import files\n",
        "# except ImportError:\n",
        "#   pass\n",
        "# else:\n",
        "#   files.download(\"embedding_vectors.tsv\")\n",
        "#   files.download(\"embedding_metadata.tsv\")"
      ],
      "execution_count": 48,
      "outputs": []
    },
    {
      "cell_type": "code",
      "metadata": {
        "id": "9yBhYyF40EcO",
        "colab": {
          "base_uri": "https://localhost:8080/"
        },
        "outputId": "324521cd-9d18-4394-c0dc-d498f0c027b0"
      },
      "source": [
        "tf.random.set_seed(42)\n",
        "max_vocab_length = 10000\n",
        "max_length = 16\n",
        "model_2_embedding = layers.Embedding(input_dim = max_vocab_length,\n",
        "                                     output_dim = 128,\n",
        "                                     embeddings_initializer = 'uniform',\n",
        "                                     input_length = max_length,\n",
        "                                     name = 'embedding_2')\n",
        "\n",
        "# Create LSTM model\n",
        "inputs = layers.Input(shape=(1),dtype='string',name = 'inputs_2') #,batch_size=10\n",
        "x = text_vectorizer(inputs)\n",
        "x = model_2_embedding(x)\n",
        "print(x.shape)\n",
        "x = layers.LSTM(128,return_sequences=True)(x)\n",
        "print(x.shape)\n",
        "x = layers.LSTM(64)(x)\n",
        "print(x.shape)\n",
        "x = layers.Dense(128,activation='relu')(x)\n",
        "print(x.shape)\n",
        "outputs = layers.Dense(1,activation='sigmoid')(x)\n",
        "print(outputs.shape)\n",
        "model_2 = tf.keras.Model(inputs,outputs, name = 'model_2_LSTM')"
      ],
      "execution_count": 49,
      "outputs": [
        {
          "output_type": "stream",
          "name": "stdout",
          "text": [
            "(None, 15, 128)\n",
            "(None, 15, 128)\n",
            "(None, 64)\n",
            "(None, 128)\n",
            "(None, 1)\n"
          ]
        }
      ]
    },
    {
      "cell_type": "code",
      "metadata": {
        "id": "Mv28zG_Qv6Sf"
      },
      "source": [
        "model_2.compile(loss='binary_crossentropy',\n",
        "                optimizer = tf.optimizers.Adam(),\n",
        "                metrics = ['accuracy'])"
      ],
      "execution_count": 50,
      "outputs": []
    },
    {
      "cell_type": "code",
      "metadata": {
        "id": "7qvOwf9G0ML9",
        "colab": {
          "base_uri": "https://localhost:8080/"
        },
        "outputId": "a3aa5488-c8cf-48fa-a8ea-d40e37a5a724"
      },
      "source": [
        "# Before we fit the model let us check the summary\n",
        "model_2.summary()"
      ],
      "execution_count": 51,
      "outputs": [
        {
          "output_type": "stream",
          "name": "stdout",
          "text": [
            "Model: \"model_2_LSTM\"\n",
            "_________________________________________________________________\n",
            " Layer (type)                Output Shape              Param #   \n",
            "=================================================================\n",
            " inputs_2 (InputLayer)       [(None, 1)]               0         \n",
            "                                                                 \n",
            " text_vectorization (TextVec  (None, 15)               0         \n",
            " torization)                                                     \n",
            "                                                                 \n",
            " embedding_2 (Embedding)     (None, 15, 128)           1280000   \n",
            "                                                                 \n",
            " lstm (LSTM)                 (None, 15, 128)           131584    \n",
            "                                                                 \n",
            " lstm_1 (LSTM)               (None, 64)                49408     \n",
            "                                                                 \n",
            " dense_1 (Dense)             (None, 128)               8320      \n",
            "                                                                 \n",
            " dense_2 (Dense)             (None, 1)                 129       \n",
            "                                                                 \n",
            "=================================================================\n",
            "Total params: 1,469,441\n",
            "Trainable params: 1,469,441\n",
            "Non-trainable params: 0\n",
            "_________________________________________________________________\n"
          ]
        }
      ]
    },
    {
      "cell_type": "code",
      "metadata": {
        "id": "OCxOQtsN0UbF",
        "colab": {
          "base_uri": "https://localhost:8080/"
        },
        "outputId": "5c4e41f1-57a8-439e-af5b-fdf8eedfe92d"
      },
      "source": [
        "model_2.fit(x = train_sentences,\n",
        "            y = train_labels,\n",
        "            epochs = 5,\n",
        "            validation_data = (val_sentences,val_labels),\n",
        "            callbacks = [create_tensorboard_callback(SAVE_DIR,\n",
        "                                                     'LSTM')])"
      ],
      "execution_count": 52,
      "outputs": [
        {
          "output_type": "stream",
          "name": "stdout",
          "text": [
            "Saving TensorBoard log files to: model_logs/LSTM/20220113-142003\n",
            "Epoch 1/5\n",
            "215/215 [==============================] - 7s 12ms/step - loss: 0.5111 - accuracy: 0.7503 - val_loss: 0.4571 - val_accuracy: 0.7782\n",
            "Epoch 2/5\n",
            "215/215 [==============================] - 2s 8ms/step - loss: 0.3276 - accuracy: 0.8702 - val_loss: 0.5174 - val_accuracy: 0.7743\n",
            "Epoch 3/5\n",
            "215/215 [==============================] - 2s 8ms/step - loss: 0.2275 - accuracy: 0.9118 - val_loss: 0.5520 - val_accuracy: 0.7638\n",
            "Epoch 4/5\n",
            "215/215 [==============================] - 2s 8ms/step - loss: 0.1660 - accuracy: 0.9437 - val_loss: 0.6053 - val_accuracy: 0.7664\n",
            "Epoch 5/5\n",
            "215/215 [==============================] - 2s 8ms/step - loss: 0.1167 - accuracy: 0.9580 - val_loss: 0.7879 - val_accuracy: 0.7612\n"
          ]
        },
        {
          "output_type": "execute_result",
          "data": {
            "text/plain": [
              "<keras.callbacks.History at 0x7f837cf9e090>"
            ]
          },
          "metadata": {},
          "execution_count": 52
        }
      ]
    },
    {
      "cell_type": "code",
      "metadata": {
        "id": "yG9mIQV51BlF",
        "colab": {
          "base_uri": "https://localhost:8080/"
        },
        "outputId": "e97a85a2-3034-4d56-f7c7-1f5f0d88bb16"
      },
      "source": [
        "model_2_pred_probs = model_2.predict(val_sentences)\n",
        "print(model_2_pred_probs[:10])\n",
        "model_2_pred = tf.squeeze(tf.round(model_2_pred_probs))\n",
        "model_2_pred[:10]"
      ],
      "execution_count": 53,
      "outputs": [
        {
          "output_type": "stream",
          "name": "stdout",
          "text": [
            "[[5.76038249e-02]\n",
            " [5.47399640e-01]\n",
            " [9.98732388e-01]\n",
            " [1.50234893e-01]\n",
            " [8.32074380e-04]\n",
            " [9.95378852e-01]\n",
            " [4.29290861e-01]\n",
            " [9.95184124e-01]\n",
            " [9.98547375e-01]\n",
            " [1.07939236e-01]]\n"
          ]
        },
        {
          "output_type": "execute_result",
          "data": {
            "text/plain": [
              "<tf.Tensor: shape=(10,), dtype=float32, numpy=array([0., 1., 1., 0., 0., 1., 0., 1., 1., 0.], dtype=float32)>"
            ]
          },
          "metadata": {},
          "execution_count": 53
        }
      ]
    },
    {
      "cell_type": "code",
      "metadata": {
        "id": "klbazpf92hJk",
        "colab": {
          "base_uri": "https://localhost:8080/"
        },
        "outputId": "2a6623ed-fcd8-4645-cd73-e2ef0c77eada"
      },
      "source": [
        "model_2_results = metrics(val_labels,model_2_pred)\n",
        "model_2_results"
      ],
      "execution_count": 54,
      "outputs": [
        {
          "output_type": "execute_result",
          "data": {
            "text/plain": [
              "{'accuracy': 0.7611548556430446,\n",
              " 'f1': 0.7577956328280006,\n",
              " 'precision': 0.7649393219101418,\n",
              " 'recall': 0.7611548556430446}"
            ]
          },
          "metadata": {},
          "execution_count": 54
        }
      ]
    },
    {
      "cell_type": "code",
      "metadata": {
        "id": "YVGhcow82-SL",
        "colab": {
          "base_uri": "https://localhost:8080/"
        },
        "outputId": "8c471b95-c502-47f0-8321-a4b26e179e89"
      },
      "source": [
        "compare_baseline_to_new_results(baseline_results,model_2_results)"
      ],
      "execution_count": 55,
      "outputs": [
        {
          "output_type": "stream",
          "name": "stdout",
          "text": [
            "Baseline   accuracy: 0.79   New   accuracy: 0.76,   Difference -0.03\n",
            "Baseline  precision: 0.81   New  precision: 0.76,   Difference -0.05\n",
            "Baseline     recall: 0.79   New     recall: 0.76,   Difference -0.03\n",
            "Baseline         f1: 0.79   New         f1: 0.76,   Difference -0.03\n"
          ]
        }
      ]
    },
    {
      "cell_type": "markdown",
      "metadata": {
        "id": "556WnNyF3KV8"
      },
      "source": [
        "# GRU Model"
      ]
    },
    {
      "cell_type": "code",
      "metadata": {
        "id": "eQe9nrTq6mvZ",
        "colab": {
          "base_uri": "https://localhost:8080/"
        },
        "outputId": "aebc26ae-0997-4b39-c4b8-ac89680de0e6"
      },
      "source": [
        "tf.random.set_seed(42)\n",
        "model_3_embedding = layers.Embedding(input_dim = max_vocab_length,\n",
        "                                     output_dim = 128,\n",
        "                                     embeddings_initializer = 'uniform',\n",
        "                                     input_length = max_length,\n",
        "                                     name = 'embedding_3')\n",
        "\n",
        "# Build GRU model\n",
        "inputs = layers.Input(shape = (1,),\n",
        "                     name = 'input_3',\n",
        "                     dtype = 'string')\n",
        "x = text_vectorizer(inputs)\n",
        "x = model_3_embedding(x)\n",
        "print(x.shape)\n",
        "# x = layers.GRU(64, return_sequences=True)(x)\n",
        "x = layers.GRU(64)(x)\n",
        "print(x.shape)\n",
        "output = layers.Dense(1,activation = 'sigmoid')(x)\n",
        "print(output.shape)\n",
        "model_3 = tf.keras.Model(inputs,output,name='model_GRU')"
      ],
      "execution_count": 56,
      "outputs": [
        {
          "output_type": "stream",
          "name": "stdout",
          "text": [
            "(None, 15, 128)\n",
            "(None, 64)\n",
            "(None, 1)\n"
          ]
        }
      ]
    },
    {
      "cell_type": "code",
      "metadata": {
        "id": "-VlPCpu59Gdh"
      },
      "source": [
        "model_3.compile(optimizer=tf.keras.optimizers.Adam(),\n",
        "                loss = 'binary_crossentropy',\n",
        "                metrics = ['accuracy'])"
      ],
      "execution_count": 57,
      "outputs": []
    },
    {
      "cell_type": "code",
      "metadata": {
        "id": "_lcg9RcA9kLa",
        "colab": {
          "base_uri": "https://localhost:8080/"
        },
        "outputId": "7c8729c5-032b-401d-bf0a-e09b0a636bbf"
      },
      "source": [
        "model_3.summary()"
      ],
      "execution_count": 58,
      "outputs": [
        {
          "output_type": "stream",
          "name": "stdout",
          "text": [
            "Model: \"model_GRU\"\n",
            "_________________________________________________________________\n",
            " Layer (type)                Output Shape              Param #   \n",
            "=================================================================\n",
            " input_3 (InputLayer)        [(None, 1)]               0         \n",
            "                                                                 \n",
            " text_vectorization (TextVec  (None, 15)               0         \n",
            " torization)                                                     \n",
            "                                                                 \n",
            " embedding_3 (Embedding)     (None, 15, 128)           1280000   \n",
            "                                                                 \n",
            " gru (GRU)                   (None, 64)                37248     \n",
            "                                                                 \n",
            " dense_3 (Dense)             (None, 1)                 65        \n",
            "                                                                 \n",
            "=================================================================\n",
            "Total params: 1,317,313\n",
            "Trainable params: 1,317,313\n",
            "Non-trainable params: 0\n",
            "_________________________________________________________________\n"
          ]
        }
      ]
    },
    {
      "cell_type": "code",
      "metadata": {
        "id": "OCkLVNj29nz0",
        "colab": {
          "base_uri": "https://localhost:8080/"
        },
        "outputId": "2de7f9c0-41e4-46f9-803b-1409658a4ee3"
      },
      "source": [
        "model_3.fit(x = train_sentences,\n",
        "            y = train_labels,\n",
        "            epochs = 5,\n",
        "            validation_data = (val_sentences,val_labels),\n",
        "            callbacks = [create_tensorboard_callback(SAVE_DIR,'GRU')],\n",
        "            batch_size = 15)"
      ],
      "execution_count": 59,
      "outputs": [
        {
          "output_type": "stream",
          "name": "stdout",
          "text": [
            "Saving TensorBoard log files to: model_logs/GRU/20220113-142019\n",
            "Epoch 1/5\n",
            "457/457 [==============================] - 5s 6ms/step - loss: 0.5064 - accuracy: 0.7470 - val_loss: 0.4489 - val_accuracy: 0.7887\n",
            "Epoch 2/5\n",
            "457/457 [==============================] - 3s 6ms/step - loss: 0.3175 - accuracy: 0.8689 - val_loss: 0.5255 - val_accuracy: 0.7717\n",
            "Epoch 3/5\n",
            "457/457 [==============================] - 3s 6ms/step - loss: 0.2152 - accuracy: 0.9188 - val_loss: 0.5743 - val_accuracy: 0.7730\n",
            "Epoch 4/5\n",
            "457/457 [==============================] - 3s 6ms/step - loss: 0.1502 - accuracy: 0.9482 - val_loss: 0.6356 - val_accuracy: 0.7703\n",
            "Epoch 5/5\n",
            "457/457 [==============================] - 3s 6ms/step - loss: 0.1069 - accuracy: 0.9613 - val_loss: 0.6936 - val_accuracy: 0.7756\n"
          ]
        },
        {
          "output_type": "execute_result",
          "data": {
            "text/plain": [
              "<keras.callbacks.History at 0x7f838dcc0f50>"
            ]
          },
          "metadata": {},
          "execution_count": 59
        }
      ]
    },
    {
      "cell_type": "code",
      "metadata": {
        "id": "9GCEJy6a-Np3",
        "colab": {
          "base_uri": "https://localhost:8080/"
        },
        "outputId": "156b779f-506e-419c-d81e-8297e4801b4a"
      },
      "source": [
        "model_3_pred_proba = model_3.predict(val_sentences)\n",
        "print(f'Pridicted probabilities\\n {model_3_pred_proba[:5]} \\n\\n Pridicated class')\n",
        "model_3_pred = tf.squeeze(tf.round(model_3_pred_proba))\n",
        "model_3_pred[:10]"
      ],
      "execution_count": 60,
      "outputs": [
        {
          "output_type": "stream",
          "name": "stdout",
          "text": [
            "Pridicted probabilities\n",
            " [[0.08677846]\n",
            " [0.90265805]\n",
            " [0.9969765 ]\n",
            " [0.14623697]\n",
            " [0.00297258]] \n",
            "\n",
            " Pridicated class\n"
          ]
        },
        {
          "output_type": "execute_result",
          "data": {
            "text/plain": [
              "<tf.Tensor: shape=(10,), dtype=float32, numpy=array([0., 1., 1., 0., 0., 1., 1., 1., 1., 0.], dtype=float32)>"
            ]
          },
          "metadata": {},
          "execution_count": 60
        }
      ]
    },
    {
      "cell_type": "code",
      "metadata": {
        "id": "jWlXul6S_XCc",
        "colab": {
          "base_uri": "https://localhost:8080/"
        },
        "outputId": "0afce46a-8d7e-4423-f13b-2859bc69b8c2"
      },
      "source": [
        "# calculate metrics\n",
        "\n",
        "model_3_results = metrics(y_true = val_labels,\n",
        "                          y_pred = model_3_pred)\n",
        "model_3_results"
      ],
      "execution_count": 61,
      "outputs": [
        {
          "output_type": "execute_result",
          "data": {
            "text/plain": [
              "{'accuracy': 0.7755905511811023,\n",
              " 'f1': 0.7738609431347062,\n",
              " 'precision': 0.7767334207253159,\n",
              " 'recall': 0.7755905511811023}"
            ]
          },
          "metadata": {},
          "execution_count": 61
        }
      ]
    },
    {
      "cell_type": "markdown",
      "metadata": {
        "id": "9ijPNBWikkHH"
      },
      "source": [
        "# Conv 1D model"
      ]
    },
    {
      "cell_type": "code",
      "metadata": {
        "id": "9M5-Y0qvAIcB",
        "colab": {
          "base_uri": "https://localhost:8080/"
        },
        "outputId": "01ad9662-7101-461b-daa0-5cb0601e15d1"
      },
      "source": [
        "# Build a CNN 1D Model\n",
        "tf.random.set_seed(42)\n",
        "model_4_embedding = layers.Embedding(input_dim = max_vocab_length,\n",
        "                                     output_dim = 128,\n",
        "                                     embeddings_initializer = 'uniform',\n",
        "                                     input_length = max_length,\n",
        "                                     name = 'embedding_4')\n",
        "\n",
        "inputs = layers.Input(shape=(1), name = 'inputlayer', dtype='string')\n",
        "x = text_vectorizer(inputs)\n",
        "x = model_4_embedding(x)\n",
        "print(x.shape)\n",
        "conv_output = layers.Conv1D(64, 4, padding = 'same',activation='relu')\n",
        "x = conv_output(x)\n",
        "print(x.shape)\n",
        "maxpool_output = layers.GlobalMaxPool1D()\n",
        "x = maxpool_output(x)\n",
        "print(x.shape)\n",
        "outputs = layers.Dense(1,activation= 'sigmoid')(x)\n",
        "model_4 = tf.keras.Model(inputs, outputs, name = 'CNN1D')\n",
        "\n",
        "model_4.compile(optimizer = tf.keras.optimizers.Adam(),\n",
        "                loss = 'binary_crossentropy',\n",
        "                metrics = ['accuracy'])\n",
        "\n",
        "model_4.summary()"
      ],
      "execution_count": 62,
      "outputs": [
        {
          "output_type": "stream",
          "name": "stdout",
          "text": [
            "(None, 15, 128)\n",
            "(None, 15, 64)\n",
            "(None, 64)\n",
            "Model: \"CNN1D\"\n",
            "_________________________________________________________________\n",
            " Layer (type)                Output Shape              Param #   \n",
            "=================================================================\n",
            " inputlayer (InputLayer)     [(None, 1)]               0         \n",
            "                                                                 \n",
            " text_vectorization (TextVec  (None, 15)               0         \n",
            " torization)                                                     \n",
            "                                                                 \n",
            " embedding_4 (Embedding)     (None, 15, 128)           1280000   \n",
            "                                                                 \n",
            " conv1d (Conv1D)             (None, 15, 64)            32832     \n",
            "                                                                 \n",
            " global_max_pooling1d (Globa  (None, 64)               0         \n",
            " lMaxPooling1D)                                                  \n",
            "                                                                 \n",
            " dense_4 (Dense)             (None, 1)                 65        \n",
            "                                                                 \n",
            "=================================================================\n",
            "Total params: 1,312,897\n",
            "Trainable params: 1,312,897\n",
            "Non-trainable params: 0\n",
            "_________________________________________________________________\n"
          ]
        }
      ]
    },
    {
      "cell_type": "code",
      "metadata": {
        "colab": {
          "base_uri": "https://localhost:8080/"
        },
        "id": "4hxKBGp3TyBt",
        "outputId": "0e331e4f-d1a1-4101-8b5c-3832aa2bb3c1"
      },
      "source": [
        "model_4.fit(x = train_sentences, y = train_labels,\n",
        "            epochs = 1, validation_data = (val_sentences,val_labels),\n",
        "            workers = -1,\n",
        "            callbacks = [create_tensorboard_callback(SAVE_DIR,'Conv1D')])"
      ],
      "execution_count": 63,
      "outputs": [
        {
          "output_type": "stream",
          "name": "stdout",
          "text": [
            "Saving TensorBoard log files to: model_logs/Conv1D/20220113-142034\n",
            "215/215 [==============================] - 8s 6ms/step - loss: 0.5565 - accuracy: 0.7209 - val_loss: 0.4648 - val_accuracy: 0.7769\n"
          ]
        },
        {
          "output_type": "execute_result",
          "data": {
            "text/plain": [
              "<keras.callbacks.History at 0x7f838d677790>"
            ]
          },
          "metadata": {},
          "execution_count": 63
        }
      ]
    },
    {
      "cell_type": "code",
      "metadata": {
        "colab": {
          "base_uri": "https://localhost:8080/"
        },
        "id": "tzf_ww1wmpLq",
        "outputId": "440c2e40-427a-4888-b020-c251db894edc"
      },
      "source": [
        "model_4_pred_proba = model_4.predict(val_sentences)\n",
        "print(model_4_pred_proba[:5])\n",
        "model_4_pred = tf.squeeze(tf.round(model_4_pred_proba))\n",
        "print(model_4_pred[:5])"
      ],
      "execution_count": 64,
      "outputs": [
        {
          "output_type": "stream",
          "name": "stdout",
          "text": [
            "[[0.3841609 ]\n",
            " [0.7147779 ]\n",
            " [0.9489205 ]\n",
            " [0.25828883]\n",
            " [0.23438701]]\n",
            "tf.Tensor([0. 1. 1. 0. 0.], shape=(5,), dtype=float32)\n"
          ]
        }
      ]
    },
    {
      "cell_type": "code",
      "metadata": {
        "colab": {
          "base_uri": "https://localhost:8080/"
        },
        "id": "AoqTO-HInJxm",
        "outputId": "c50f7ec8-af1d-4ca1-d92b-06875f823edc"
      },
      "source": [
        "model_4_results = metrics(y_true=val_labels,y_pred=model_4_pred)\n",
        "model_4_results"
      ],
      "execution_count": 65,
      "outputs": [
        {
          "output_type": "execute_result",
          "data": {
            "text/plain": [
              "{'accuracy': 0.7769028871391076,\n",
              " 'f1': 0.774064384984916,\n",
              " 'precision': 0.7805885493126917,\n",
              " 'recall': 0.7769028871391076}"
            ]
          },
          "metadata": {},
          "execution_count": 65
        }
      ]
    },
    {
      "cell_type": "markdown",
      "metadata": {
        "id": "5rF_aMYerDfL"
      },
      "source": [
        "# Transfer learning - Universal Sentence Encoder (USE)"
      ]
    },
    {
      "cell_type": "code",
      "metadata": {
        "id": "CnSXRdQendbY"
      },
      "source": [
        "import tensorflow_hub as hub\n",
        "# model_5_embedding = hub.load('https://tfhub.dev/google/universal-sentence-encoder/4')\n",
        "\n",
        "# # create a model\n",
        "# inputs = layers.Input(shape = (1), batch_size=None,name=None,dtype=tf.string)\n",
        "# # x = text_vectorizer(inputs)\n",
        "# x = model_5_embedding(inputs)\n",
        "# print(x.shape)\n",
        "# x = layers.Dense(1, activation = 'sigmoid')\n",
        "# print(x.shape)"
      ],
      "execution_count": 66,
      "outputs": []
    },
    {
      "cell_type": "code",
      "metadata": {
        "id": "Jp4qZEhexlHH"
      },
      "source": [
        "model_5_embedding = hub.KerasLayer('https://tfhub.dev/google/universal-sentence-encoder/4',\n",
        "                                   trainable = False,\n",
        "                                   dtype = 'string', input_shape = [],\n",
        "                                   name = 'USE_sentence_encoder')"
      ],
      "execution_count": 67,
      "outputs": []
    },
    {
      "cell_type": "code",
      "metadata": {
        "colab": {
          "base_uri": "https://localhost:8080/"
        },
        "id": "rA0_Gq0UzQeo",
        "outputId": "b6675655-811c-4365-c5cb-b21fb73753a0"
      },
      "source": [
        "# create a model\n",
        "\n",
        "model_5 = tf.keras.Sequential([\n",
        "                               model_5_embedding,\n",
        "                               layers.Dense(512, activation = 'relu'),\n",
        "                              #  layers.GlobalAveragePooling1D(),\n",
        "                               layers.Dense(1,activation= 'sigmoid')\n",
        "])\n",
        "\n",
        "model_5.compile(loss = 'binary_crossentropy',\n",
        "                optimizer = tf.keras.optimizers.Adam(),\n",
        "                metrics = ['accuracy'])\n",
        "\n",
        "model_5.summary()"
      ],
      "execution_count": 68,
      "outputs": [
        {
          "output_type": "stream",
          "name": "stdout",
          "text": [
            "Model: \"sequential\"\n",
            "_________________________________________________________________\n",
            " Layer (type)                Output Shape              Param #   \n",
            "=================================================================\n",
            " USE_sentence_encoder (Keras  (None, 512)              256797824 \n",
            " Layer)                                                          \n",
            "                                                                 \n",
            " dense_5 (Dense)             (None, 512)               262656    \n",
            "                                                                 \n",
            " dense_6 (Dense)             (None, 1)                 513       \n",
            "                                                                 \n",
            "=================================================================\n",
            "Total params: 257,060,993\n",
            "Trainable params: 263,169\n",
            "Non-trainable params: 256,797,824\n",
            "_________________________________________________________________\n"
          ]
        }
      ]
    },
    {
      "cell_type": "code",
      "metadata": {
        "colab": {
          "base_uri": "https://localhost:8080/"
        },
        "id": "FDZEhpoq0hZH",
        "outputId": "148dad52-7f38-4379-bdbb-834c2a17d9d3"
      },
      "source": [
        "model_5.fit(x = train_sentences,\n",
        "            y = train_labels,\n",
        "            epochs = 10,\n",
        "            validation_data = (val_sentences,val_labels),\n",
        "            callbacks = [create_tensorboard_callback(SAVE_DIR,'Sentence_encoderUSE')])"
      ],
      "execution_count": 69,
      "outputs": [
        {
          "output_type": "stream",
          "name": "stdout",
          "text": [
            "Saving TensorBoard log files to: model_logs/Sentence_encoderUSE/20220113-142100\n",
            "Epoch 1/10\n",
            "215/215 [==============================] - 5s 13ms/step - loss: 0.4625 - accuracy: 0.7968 - val_loss: 0.4389 - val_accuracy: 0.8058\n",
            "Epoch 2/10\n",
            "215/215 [==============================] - 2s 11ms/step - loss: 0.3990 - accuracy: 0.8219 - val_loss: 0.4241 - val_accuracy: 0.8228\n",
            "Epoch 3/10\n",
            "215/215 [==============================] - 2s 11ms/step - loss: 0.3764 - accuracy: 0.8354 - val_loss: 0.4215 - val_accuracy: 0.8255\n",
            "Epoch 4/10\n",
            "215/215 [==============================] - 2s 11ms/step - loss: 0.3561 - accuracy: 0.8459 - val_loss: 0.4206 - val_accuracy: 0.8215\n",
            "Epoch 5/10\n",
            "215/215 [==============================] - 2s 11ms/step - loss: 0.3312 - accuracy: 0.8562 - val_loss: 0.4221 - val_accuracy: 0.8202\n",
            "Epoch 6/10\n",
            "215/215 [==============================] - 2s 12ms/step - loss: 0.3045 - accuracy: 0.8756 - val_loss: 0.4225 - val_accuracy: 0.8176\n",
            "Epoch 7/10\n",
            "215/215 [==============================] - 2s 11ms/step - loss: 0.2744 - accuracy: 0.8876 - val_loss: 0.4303 - val_accuracy: 0.8268\n",
            "Epoch 8/10\n",
            "215/215 [==============================] - 2s 12ms/step - loss: 0.2466 - accuracy: 0.9045 - val_loss: 0.4552 - val_accuracy: 0.8202\n",
            "Epoch 9/10\n",
            "215/215 [==============================] - 2s 12ms/step - loss: 0.2175 - accuracy: 0.9191 - val_loss: 0.4671 - val_accuracy: 0.8241\n",
            "Epoch 10/10\n",
            "215/215 [==============================] - 2s 11ms/step - loss: 0.1915 - accuracy: 0.9336 - val_loss: 0.4888 - val_accuracy: 0.8241\n"
          ]
        },
        {
          "output_type": "execute_result",
          "data": {
            "text/plain": [
              "<keras.callbacks.History at 0x7f838a413b10>"
            ]
          },
          "metadata": {},
          "execution_count": 69
        }
      ]
    },
    {
      "cell_type": "code",
      "metadata": {
        "colab": {
          "base_uri": "https://localhost:8080/"
        },
        "id": "rf70k_E32xGW",
        "outputId": "6b2b0aca-541f-46d0-887f-b5e6baa23e82"
      },
      "source": [
        "model_5_pred_proba = model_5.predict(val_sentences)\n",
        "print(model_5_pred_proba[:5])\n",
        "model_5_pred = tf.squeeze(tf.round(model_5_pred_proba))\n",
        "model_5_pred[:10]"
      ],
      "execution_count": 70,
      "outputs": [
        {
          "output_type": "stream",
          "name": "stdout",
          "text": [
            "[[0.04553965]\n",
            " [0.71192884]\n",
            " [0.9995608 ]\n",
            " [0.3485214 ]\n",
            " [0.36715168]]\n"
          ]
        },
        {
          "output_type": "execute_result",
          "data": {
            "text/plain": [
              "<tf.Tensor: shape=(10,), dtype=float32, numpy=array([0., 1., 1., 0., 0., 1., 1., 1., 1., 0.], dtype=float32)>"
            ]
          },
          "metadata": {},
          "execution_count": 70
        }
      ]
    },
    {
      "cell_type": "code",
      "metadata": {
        "colab": {
          "base_uri": "https://localhost:8080/"
        },
        "id": "hCTRB9v-3Wlw",
        "outputId": "e42f7028-23d8-47f1-8d85-76f74cdb295a"
      },
      "source": [
        "model_5_results = metrics(y_true=val_labels,y_pred=model_5_pred)\n",
        "model_5_results"
      ],
      "execution_count": 71,
      "outputs": [
        {
          "output_type": "execute_result",
          "data": {
            "text/plain": [
              "{'accuracy': 0.8241469816272966,\n",
              " 'f1': 0.8211689033722674,\n",
              " 'precision': 0.8329324306546825,\n",
              " 'recall': 0.8241469816272966}"
            ]
          },
          "metadata": {},
          "execution_count": 71
        }
      ]
    },
    {
      "cell_type": "code",
      "metadata": {
        "colab": {
          "base_uri": "https://localhost:8080/"
        },
        "id": "rxirkaci3l_O",
        "outputId": "f948a97f-2c6c-43cd-b293-f2da337477dc"
      },
      "source": [
        "# train_df_10_percent = train_df_shuffled[['text','target']].sample(frac = 0.1, random_state=42)\n",
        "# len(train_df_10_percent)\n",
        "\n",
        "train_sent_90_percent, train_sent_10_percent, train_label_90_percent, train_label_10_percent = train_test_split(train_sentences,\n",
        "                                                                                                                train_labels,\n",
        "                                                                                                                test_size = .1,random_state = 42)\n",
        "train_sent_10_percent.shape,train_label_10_percent.shape"
      ],
      "execution_count": 72,
      "outputs": [
        {
          "output_type": "execute_result",
          "data": {
            "text/plain": [
              "((686,), (686,))"
            ]
          },
          "metadata": {},
          "execution_count": 72
        }
      ]
    },
    {
      "cell_type": "code",
      "metadata": {
        "id": "4CZqh1VllZSR",
        "colab": {
          "base_uri": "https://localhost:8080/"
        },
        "outputId": "f4b7dd98-9ae1-47f9-cdd5-be70f6fcc3ba"
      },
      "source": [
        "temp = pd.Series(train_label_10_percent).value_counts()\n",
        "temp[0],temp[1]"
      ],
      "execution_count": 73,
      "outputs": [
        {
          "output_type": "execute_result",
          "data": {
            "text/plain": [
              "(415, 271)"
            ]
          },
          "metadata": {},
          "execution_count": 73
        }
      ]
    },
    {
      "cell_type": "code",
      "metadata": {
        "colab": {
          "base_uri": "https://localhost:8080/"
        },
        "id": "THfgJ3LHlywD",
        "outputId": "83c87d10-f3c2-4d2b-af53-2e3a55d286df"
      },
      "source": [
        "temp[1]/(temp[0]+temp[1])"
      ],
      "execution_count": 74,
      "outputs": [
        {
          "output_type": "execute_result",
          "data": {
            "text/plain": [
              "0.39504373177842567"
            ]
          },
          "metadata": {},
          "execution_count": 74
        }
      ]
    },
    {
      "cell_type": "markdown",
      "metadata": {
        "id": "a-t3wd7wkWTv"
      },
      "source": [
        "# Build a transfer learning model with 10% data"
      ]
    },
    {
      "cell_type": "code",
      "metadata": {
        "id": "u0bTGzeMYYH7"
      },
      "source": [
        "model_6_embedding = hub.KerasLayer('https://tfhub.dev/google/universal-sentence-encoder/4',\n",
        "                                   input_shape = [],\n",
        "                                   dtype = 'string',\n",
        "                                   trainable = False,\n",
        "                                   name = 'USE_embedding_10percent')"
      ],
      "execution_count": 75,
      "outputs": []
    },
    {
      "cell_type": "code",
      "metadata": {
        "colab": {
          "base_uri": "https://localhost:8080/"
        },
        "id": "KML6C5hblUaT",
        "outputId": "c715c81c-eeea-4768-81b8-133ab9b592ca"
      },
      "source": [
        "model_6 = tf.keras.Sequential([\n",
        "                                model_6_embedding,\n",
        "                                layers.Dense(1024,activation='relu'),\n",
        "                               layers.Dense(256, activation='relu'),\n",
        "                                layers.Dense(1,activation='sigmoid')\n",
        "], name = 'model6_10percent_USE')\n",
        "\n",
        "model_6.compile(loss = 'binary_crossentropy',\n",
        "                optimizer = tf.keras.optimizers.Adam(learning_rate=0.01),\n",
        "                metrics = ['accuracy'])\n",
        "\n",
        "model_6.summary()"
      ],
      "execution_count": 76,
      "outputs": [
        {
          "output_type": "stream",
          "name": "stdout",
          "text": [
            "Model: \"model6_10percent_USE\"\n",
            "_________________________________________________________________\n",
            " Layer (type)                Output Shape              Param #   \n",
            "=================================================================\n",
            " USE_embedding_10percent (Ke  (None, 512)              256797824 \n",
            " rasLayer)                                                       \n",
            "                                                                 \n",
            " dense_7 (Dense)             (None, 1024)              525312    \n",
            "                                                                 \n",
            " dense_8 (Dense)             (None, 256)               262400    \n",
            "                                                                 \n",
            " dense_9 (Dense)             (None, 1)                 257       \n",
            "                                                                 \n",
            "=================================================================\n",
            "Total params: 257,585,793\n",
            "Trainable params: 787,969\n",
            "Non-trainable params: 256,797,824\n",
            "_________________________________________________________________\n"
          ]
        }
      ]
    },
    {
      "cell_type": "code",
      "metadata": {
        "colab": {
          "base_uri": "https://localhost:8080/"
        },
        "id": "wrBnRQ30nQnn",
        "outputId": "4b474731-b406-4fb5-8cb8-2b136e589a2e"
      },
      "source": [
        "model_6.fit(x = train_sent_10_percent,\n",
        "            y = train_label_10_percent,\n",
        "            epochs = 10,\n",
        "            validation_data = (val_sentences,val_labels),\n",
        "            callbacks = [create_tensorboard_callback(SAVE_DIR,'USE10percentdata')])"
      ],
      "execution_count": 77,
      "outputs": [
        {
          "output_type": "stream",
          "name": "stdout",
          "text": [
            "Saving TensorBoard log files to: model_logs/USE10percentdata/20220113-142131\n",
            "Epoch 1/10\n",
            "22/22 [==============================] - 3s 44ms/step - loss: 0.5171 - accuracy: 0.7464 - val_loss: 0.4750 - val_accuracy: 0.7795\n",
            "Epoch 2/10\n",
            "22/22 [==============================] - 1s 25ms/step - loss: 0.3106 - accuracy: 0.8688 - val_loss: 0.5374 - val_accuracy: 0.7927\n",
            "Epoch 3/10\n",
            "22/22 [==============================] - 1s 25ms/step - loss: 0.1275 - accuracy: 0.9621 - val_loss: 0.8537 - val_accuracy: 0.7546\n",
            "Epoch 4/10\n",
            "22/22 [==============================] - 0s 21ms/step - loss: 0.0715 - accuracy: 0.9840 - val_loss: 1.0640 - val_accuracy: 0.7717\n",
            "Epoch 5/10\n",
            "22/22 [==============================] - 1s 25ms/step - loss: 0.0624 - accuracy: 0.9767 - val_loss: 1.3478 - val_accuracy: 0.7480\n",
            "Epoch 6/10\n",
            "22/22 [==============================] - 0s 21ms/step - loss: 0.0820 - accuracy: 0.9708 - val_loss: 1.3942 - val_accuracy: 0.7454\n",
            "Epoch 7/10\n",
            "22/22 [==============================] - 1s 26ms/step - loss: 0.0911 - accuracy: 0.9694 - val_loss: 0.9637 - val_accuracy: 0.7572\n",
            "Epoch 8/10\n",
            "22/22 [==============================] - 0s 20ms/step - loss: 0.0261 - accuracy: 0.9883 - val_loss: 1.8143 - val_accuracy: 0.7769\n",
            "Epoch 9/10\n",
            "22/22 [==============================] - 1s 26ms/step - loss: 0.0742 - accuracy: 0.9869 - val_loss: 1.0623 - val_accuracy: 0.7493\n",
            "Epoch 10/10\n",
            "22/22 [==============================] - 0s 21ms/step - loss: 0.0284 - accuracy: 0.9869 - val_loss: 1.3385 - val_accuracy: 0.7664\n"
          ]
        },
        {
          "output_type": "execute_result",
          "data": {
            "text/plain": [
              "<keras.callbacks.History at 0x7f838a7fddd0>"
            ]
          },
          "metadata": {},
          "execution_count": 77
        }
      ]
    },
    {
      "cell_type": "code",
      "metadata": {
        "colab": {
          "base_uri": "https://localhost:8080/"
        },
        "id": "5HwRCDX1oKwZ",
        "outputId": "ca6edb75-bd9c-4f00-80f9-53e4d419596c"
      },
      "source": [
        "model_6_pred_proba = model_6.predict(val_sentences)\n",
        "print(model_6_pred_proba[:5])\n",
        "model_6_pred = tf.squeeze(tf.round(model_6_pred_proba))\n",
        "model_6_pred[:10]"
      ],
      "execution_count": 78,
      "outputs": [
        {
          "output_type": "stream",
          "name": "stdout",
          "text": [
            "[[6.8213695e-01]\n",
            " [1.0000000e+00]\n",
            " [1.0000000e+00]\n",
            " [4.0208219e-04]\n",
            " [1.7208018e-03]]\n"
          ]
        },
        {
          "output_type": "execute_result",
          "data": {
            "text/plain": [
              "<tf.Tensor: shape=(10,), dtype=float32, numpy=array([1., 1., 1., 0., 0., 1., 1., 1., 1., 0.], dtype=float32)>"
            ]
          },
          "metadata": {},
          "execution_count": 78
        }
      ]
    },
    {
      "cell_type": "code",
      "metadata": {
        "colab": {
          "base_uri": "https://localhost:8080/"
        },
        "id": "vP_oINmNpP_O",
        "outputId": "d7d2d8ec-eaaa-430e-b594-60799880c827"
      },
      "source": [
        "model_6_results = metrics(val_labels,model_6_pred)\n",
        "model_6_results"
      ],
      "execution_count": 79,
      "outputs": [
        {
          "output_type": "execute_result",
          "data": {
            "text/plain": [
              "{'accuracy': 0.7664041994750657,\n",
              " 'f1': 0.7662288382234984,\n",
              " 'precision': 0.7661489682210776,\n",
              " 'recall': 0.7664041994750657}"
            ]
          },
          "metadata": {},
          "execution_count": 79
        }
      ]
    },
    {
      "cell_type": "code",
      "metadata": {
        "id": "2zA3WS-HpcPM"
      },
      "source": [
        "import tensorflow as tf"
      ],
      "execution_count": 80,
      "outputs": []
    },
    {
      "cell_type": "code",
      "metadata": {
        "colab": {
          "base_uri": "https://localhost:8080/"
        },
        "id": "Ujx-bnCkkIbF",
        "outputId": "f0f33309-79a0-4aa4-8ac7-291091d00a1d"
      },
      "source": [
        "x = tf.constant(4,shape=(5))\n",
        "x"
      ],
      "execution_count": 81,
      "outputs": [
        {
          "output_type": "execute_result",
          "data": {
            "text/plain": [
              "<tf.Tensor: shape=(5,), dtype=int32, numpy=array([4, 4, 4, 4, 4], dtype=int32)>"
            ]
          },
          "metadata": {},
          "execution_count": 81
        }
      ]
    },
    {
      "cell_type": "code",
      "metadata": {
        "colab": {
          "base_uri": "https://localhost:8080/"
        },
        "id": "AIDHPrBLkWg8",
        "outputId": "33900fbe-e9f7-451d-865c-c0353be9a314"
      },
      "source": [
        "import numpy as np\n",
        "np.array([[1,2,3,4],[4,5,6,7]]).shape"
      ],
      "execution_count": 82,
      "outputs": [
        {
          "output_type": "execute_result",
          "data": {
            "text/plain": [
              "(2, 4)"
            ]
          },
          "metadata": {},
          "execution_count": 82
        }
      ]
    },
    {
      "cell_type": "code",
      "metadata": {
        "colab": {
          "base_uri": "https://localhost:8080/"
        },
        "id": "XLjAg72bkftS",
        "outputId": "f10c442b-9a55-48c5-cac8-18b484ea1cf3"
      },
      "source": [
        "np.array([4,6,8,10]).T.shape"
      ],
      "execution_count": 83,
      "outputs": [
        {
          "output_type": "execute_result",
          "data": {
            "text/plain": [
              "(4,)"
            ]
          },
          "metadata": {},
          "execution_count": 83
        }
      ]
    },
    {
      "cell_type": "code",
      "metadata": {
        "colab": {
          "base_uri": "https://localhost:8080/"
        },
        "id": "LXP_ee0ylHKK",
        "outputId": "e64196cd-59df-48dd-fcc5-c09d9fb41317"
      },
      "source": [
        "print(np.array([4,5,6,7,8]).T)\n",
        "print(np.array([[[1,2],[4,5]],[[1,2],[4,5,6]]]).T)"
      ],
      "execution_count": 84,
      "outputs": [
        {
          "output_type": "stream",
          "name": "stdout",
          "text": [
            "[4 5 6 7 8]\n",
            "[[list([1, 2]) list([1, 2])]\n",
            " [list([4, 5]) list([4, 5, 6])]]\n"
          ]
        },
        {
          "output_type": "stream",
          "name": "stderr",
          "text": [
            "/usr/local/lib/python3.7/dist-packages/ipykernel_launcher.py:2: VisibleDeprecationWarning: Creating an ndarray from ragged nested sequences (which is a list-or-tuple of lists-or-tuples-or ndarrays with different lengths or shapes) is deprecated. If you meant to do this, you must specify 'dtype=object' when creating the ndarray\n",
            "  \n"
          ]
        }
      ]
    },
    {
      "cell_type": "code",
      "metadata": {
        "colab": {
          "base_uri": "https://localhost:8080/"
        },
        "id": "-ADFmfxBpG6S",
        "outputId": "e9a64454-c671-42b8-b01d-705935e72076"
      },
      "source": [
        "model = tf.keras.Sequential()\n",
        "# model.add(tf.keras.Input(shape=(4,)))\n",
        "# model.summary()\n",
        "# print(\"-----\")\n",
        "model.add(tf.keras.layers.Dense(2, activation=\"relu\", input_shape=(4,1)))\n",
        "\n",
        "model.summary()"
      ],
      "execution_count": 85,
      "outputs": [
        {
          "output_type": "stream",
          "name": "stdout",
          "text": [
            "Model: \"sequential_1\"\n",
            "_________________________________________________________________\n",
            " Layer (type)                Output Shape              Param #   \n",
            "=================================================================\n",
            " dense_10 (Dense)            (None, 4, 2)              4         \n",
            "                                                                 \n",
            "=================================================================\n",
            "Total params: 4\n",
            "Trainable params: 4\n",
            "Non-trainable params: 0\n",
            "_________________________________________________________________\n"
          ]
        }
      ]
    },
    {
      "cell_type": "code",
      "metadata": {
        "id": "yndKOPXOqP_J"
      },
      "source": [
        ""
      ],
      "execution_count": 85,
      "outputs": []
    }
  ]
}
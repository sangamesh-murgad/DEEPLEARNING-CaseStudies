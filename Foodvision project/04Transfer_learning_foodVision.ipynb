{
  "nbformat": 4,
  "nbformat_minor": 0,
  "metadata": {
    "colab": {
      "name": "04Transfer_learning_foodVision.ipynb",
      "provenance": [],
      "collapsed_sections": []
    },
    "kernelspec": {
      "name": "python3",
      "display_name": "Python 3"
    },
    "language_info": {
      "name": "python"
    },
    "accelerator": "GPU"
  },
  "cells": [
    {
      "cell_type": "code",
      "execution_count": null,
      "metadata": {
        "id": "2f9t7yaD1Iv6",
        "colab": {
          "base_uri": "https://localhost:8080/"
        },
        "outputId": "d840eb16-b9eb-407f-b5ae-e6d97f4e7241"
      },
      "outputs": [
        {
          "output_type": "stream",
          "name": "stdout",
          "text": [
            "Fri Dec 17 10:43:25 2021       \n",
            "+-----------------------------------------------------------------------------+\n",
            "| NVIDIA-SMI 495.44       Driver Version: 460.32.03    CUDA Version: 11.2     |\n",
            "|-------------------------------+----------------------+----------------------+\n",
            "| GPU  Name        Persistence-M| Bus-Id        Disp.A | Volatile Uncorr. ECC |\n",
            "| Fan  Temp  Perf  Pwr:Usage/Cap|         Memory-Usage | GPU-Util  Compute M. |\n",
            "|                               |                      |               MIG M. |\n",
            "|===============================+======================+======================|\n",
            "|   0  Tesla K80           Off  | 00000000:00:04.0 Off |                    0 |\n",
            "| N/A   35C    P8    27W / 149W |      0MiB / 11441MiB |      0%      Default |\n",
            "|                               |                      |                  N/A |\n",
            "+-------------------------------+----------------------+----------------------+\n",
            "                                                                               \n",
            "+-----------------------------------------------------------------------------+\n",
            "| Processes:                                                                  |\n",
            "|  GPU   GI   CI        PID   Type   Process name                  GPU Memory |\n",
            "|        ID   ID                                                   Usage      |\n",
            "|=============================================================================|\n",
            "|  No running processes found                                                 |\n",
            "+-----------------------------------------------------------------------------+\n"
          ]
        }
      ],
      "source": [
        "!nvidia-smi"
      ]
    },
    {
      "cell_type": "markdown",
      "source": [
        "# Dowloading and becoming one with data"
      ],
      "metadata": {
        "id": "Kn4VuvdbF5W1"
      }
    },
    {
      "cell_type": "code",
      "source": [
        "import zipfile\n",
        "\n",
        "# dowload the data \n",
        "!wget https://storage.googleapis.com/ztm_tf_course/food_vision/10_food_classes_10_percent.zip\n",
        "\n",
        "# unzip the dowloaded folder\n",
        "zip_ref = zipfile.ZipFile(\"10_food_classes_10_percent.zip\")\n",
        "zip_ref.extractall()\n",
        "zip_ref.close()"
      ],
      "metadata": {
        "colab": {
          "base_uri": "https://localhost:8080/"
        },
        "id": "zObGoX6IGAal",
        "outputId": "dfd6adae-db53-4354-8dda-344a6e9876d0"
      },
      "execution_count": null,
      "outputs": [
        {
          "output_type": "stream",
          "name": "stdout",
          "text": [
            "--2021-12-17 10:43:25--  https://storage.googleapis.com/ztm_tf_course/food_vision/10_food_classes_10_percent.zip\n",
            "Resolving storage.googleapis.com (storage.googleapis.com)... 108.177.120.128, 142.250.128.128, 142.251.6.128, ...\n",
            "Connecting to storage.googleapis.com (storage.googleapis.com)|108.177.120.128|:443... connected.\n",
            "HTTP request sent, awaiting response... 200 OK\n",
            "Length: 168546183 (161M) [application/zip]\n",
            "Saving to: ‘10_food_classes_10_percent.zip’\n",
            "\n",
            "10_food_classes_10_ 100%[===================>] 160.74M   100MB/s    in 1.6s    \n",
            "\n",
            "2021-12-17 10:43:27 (100 MB/s) - ‘10_food_classes_10_percent.zip’ saved [168546183/168546183]\n",
            "\n"
          ]
        }
      ]
    },
    {
      "cell_type": "markdown",
      "source": [
        "now that we have zip file downloaded and we have extracted all the folders from the zip file. \n",
        "\n",
        "it is time to explore the data directory and see how it is organise.\n",
        "\n",
        "This can be done in two steps\n",
        "1. we need to ger dependencies first (ofcourse we should) So download `os` library.\n",
        "2. use random walk function of the os library to walk through the directory and print the folder names and no of the file in each folder."
      ],
      "metadata": {
        "id": "GR7ChpuuHZFk"
      }
    },
    {
      "cell_type": "code",
      "source": [
        "# how many images in each folder?\n",
        "import os\n",
        "\n",
        "# walk through the 10_food_classes_10_percent data directory and list the number of files\n",
        "for dirpath, dirnames, filenames in os.walk(\"10_food_classes_10_percent\"):\n",
        "  print(f'There are {len(dirnames):>5} folders and {len(filenames):>5} images in {dirpath}')"
      ],
      "metadata": {
        "colab": {
          "base_uri": "https://localhost:8080/"
        },
        "id": "jBdDHNQjHAYi",
        "outputId": "51beccf0-c499-4fa6-9369-aec252810831"
      },
      "execution_count": null,
      "outputs": [
        {
          "output_type": "stream",
          "name": "stdout",
          "text": [
            "There are     2 folders and     0 images in 10_food_classes_10_percent\n",
            "There are    10 folders and     0 images in 10_food_classes_10_percent/test\n",
            "There are     0 folders and   250 images in 10_food_classes_10_percent/test/fried_rice\n",
            "There are     0 folders and   250 images in 10_food_classes_10_percent/test/grilled_salmon\n",
            "There are     0 folders and   250 images in 10_food_classes_10_percent/test/steak\n",
            "There are     0 folders and   250 images in 10_food_classes_10_percent/test/hamburger\n",
            "There are     0 folders and   250 images in 10_food_classes_10_percent/test/chicken_curry\n",
            "There are     0 folders and   250 images in 10_food_classes_10_percent/test/pizza\n",
            "There are     0 folders and   250 images in 10_food_classes_10_percent/test/sushi\n",
            "There are     0 folders and   250 images in 10_food_classes_10_percent/test/ramen\n",
            "There are     0 folders and   250 images in 10_food_classes_10_percent/test/chicken_wings\n",
            "There are     0 folders and   250 images in 10_food_classes_10_percent/test/ice_cream\n",
            "There are    10 folders and     0 images in 10_food_classes_10_percent/train\n",
            "There are     0 folders and    75 images in 10_food_classes_10_percent/train/fried_rice\n",
            "There are     0 folders and    75 images in 10_food_classes_10_percent/train/grilled_salmon\n",
            "There are     0 folders and    75 images in 10_food_classes_10_percent/train/steak\n",
            "There are     0 folders and    75 images in 10_food_classes_10_percent/train/hamburger\n",
            "There are     0 folders and    75 images in 10_food_classes_10_percent/train/chicken_curry\n",
            "There are     0 folders and    75 images in 10_food_classes_10_percent/train/pizza\n",
            "There are     0 folders and    75 images in 10_food_classes_10_percent/train/sushi\n",
            "There are     0 folders and    75 images in 10_food_classes_10_percent/train/ramen\n",
            "There are     0 folders and    75 images in 10_food_classes_10_percent/train/chicken_wings\n",
            "There are     0 folders and    75 images in 10_food_classes_10_percent/train/ice_cream\n"
          ]
        }
      ]
    },
    {
      "cell_type": "markdown",
      "source": [
        "# Creating data loader and preparing the data"
      ],
      "metadata": {
        "id": "Jwrqqa7mIoqQ"
      }
    },
    {
      "cell_type": "code",
      "source": [
        "# Setup Data inputs\n",
        "from tensorflow.keras.preprocessing.image import ImageDataGenerator\n",
        "\n",
        "IMAGE_SHAPE = (224,224)\n",
        "BATCH_SIZE = 32\n",
        "\n",
        "# define diretory path to be used in ImageDataGenerator\n",
        "train_dir = '10_food_classes_10_percent/train/'\n",
        "test_dir = '10_food_classes_10_percent/test/'\n",
        "\n",
        "# Create a data generator object\n",
        "train_datagen = ImageDataGenerator(rescale = 1/255.)\n",
        "test_datagen = ImageDataGenerator(rescale = 1/255.)\n",
        "\n",
        "# prepare the data using flow_from_directory method\n",
        "print(\"Train Images\") \n",
        "train_data_10_percent = train_datagen.flow_from_directory(train_dir,\n",
        "                                               target_size = IMAGE_SHAPE,\n",
        "                                               batch_size = BATCH_SIZE,\n",
        "                                               class_mode = 'categorical')\n",
        "\n",
        "print('Test Images')\n",
        "test_data = test_datagen.flow_from_directory(test_dir,\n",
        "                                             target_size = IMAGE_SHAPE,\n",
        "                                             batch_size = BATCH_SIZE,\n",
        "                                             class_mode = 'categorical')\n",
        "\n"
      ],
      "metadata": {
        "id": "Hurkhb-tI0hv",
        "colab": {
          "base_uri": "https://localhost:8080/"
        },
        "outputId": "464a7fa3-0f8c-4cba-aa0e-996865346acd"
      },
      "execution_count": null,
      "outputs": [
        {
          "output_type": "stream",
          "name": "stdout",
          "text": [
            "Train Images\n",
            "Found 750 images belonging to 10 classes.\n",
            "Test Images\n",
            "Found 2500 images belonging to 10 classes.\n"
          ]
        }
      ]
    },
    {
      "cell_type": "code",
      "source": [
        "train_data_10_percent"
      ],
      "metadata": {
        "colab": {
          "base_uri": "https://localhost:8080/"
        },
        "id": "NL62I-Qg0_Kd",
        "outputId": "9f8565b2-8830-4011-a2be-0689b033e561"
      },
      "execution_count": null,
      "outputs": [
        {
          "output_type": "execute_result",
          "data": {
            "text/plain": [
              "<keras.preprocessing.image.DirectoryIterator at 0x7f206c138790>"
            ]
          },
          "metadata": {},
          "execution_count": 5
        }
      ]
    },
    {
      "cell_type": "markdown",
      "source": [
        "# Setting up the callbaks\n",
        "\n",
        "Callbacks are the extra functinality you can add to your models to be performed during training. they act more like logfile for each epoch\n",
        "\n",
        "> Tracking experiments with TensorBoard Callback\n",
        "> Model check point call back for traking the model weights after each epoch\n",
        "> early stopping call back to stop training if the desired metrics are not improving"
      ],
      "metadata": {
        "id": "rUm_OCZkKnTO"
      }
    },
    {
      "cell_type": "code",
      "source": [
        "# Create tensorboard callback (functionized because we need to create one for every model we build)\n",
        "import datetime\n",
        "\n",
        "def create_tensorboard_callback(dir_name,experiment_name):\n",
        "  log_dir = dir_name + '/' + experiment_name + '/' + datetime.datetime.now().strftime(\"%y%m%d-%H%M%S\")\n",
        "  tensorboard_callback = tf.keras.callbacks.TensorBoard(log_dir = log_dir)\n",
        "  print(f'saving tensorboard log files to \"{log_dir}\".')\n",
        "  return tensorboard_callback"
      ],
      "metadata": {
        "id": "6yKHrGgVLCDO"
      },
      "execution_count": null,
      "outputs": []
    },
    {
      "cell_type": "markdown",
      "source": [
        "# Creating models using Tensorflow Hub"
      ],
      "metadata": {
        "id": "mZ4-rbmENE4L"
      }
    },
    {
      "cell_type": "code",
      "source": [
        "# Let's compare following models\n",
        "resnet_url = \"https://tfhub.dev/google/imagenet/resnet_v2_50/feature_vector/5\"\n",
        "\n",
        "efficientnet_url = \"https://tfhub.dev/tensorflow/efficientnet/b0/feature-vector/1\""
      ],
      "metadata": {
        "id": "12LkO_6FNP_0"
      },
      "execution_count": null,
      "outputs": []
    },
    {
      "cell_type": "code",
      "source": [
        "# import dependencies\n",
        "\n",
        "import tensorflow as tf\n",
        "import tensorflow_hub as hub\n",
        "from tensorflow.keras import layers"
      ],
      "metadata": {
        "id": "uHcn3xQNNkwg"
      },
      "execution_count": null,
      "outputs": []
    },
    {
      "cell_type": "code",
      "source": [
        "type(IMAGE_SHAPE)"
      ],
      "metadata": {
        "colab": {
          "base_uri": "https://localhost:8080/"
        },
        "id": "sBCw7ysJNzFn",
        "outputId": "ce25cf9d-6a65-42c2-c6ac-1b7810009b3d"
      },
      "execution_count": null,
      "outputs": [
        {
          "output_type": "execute_result",
          "data": {
            "text/plain": [
              "tuple"
            ]
          },
          "metadata": {},
          "execution_count": 9
        }
      ]
    },
    {
      "cell_type": "code",
      "source": [
        "IMAGE_SHAPE + (3,)"
      ],
      "metadata": {
        "colab": {
          "base_uri": "https://localhost:8080/"
        },
        "id": "1qTcWXyaN7oG",
        "outputId": "b49e96a0-58e2-462b-a563-84e830536191"
      },
      "execution_count": null,
      "outputs": [
        {
          "output_type": "execute_result",
          "data": {
            "text/plain": [
              "(224, 224, 3)"
            ]
          },
          "metadata": {},
          "execution_count": 10
        }
      ]
    },
    {
      "cell_type": "code",
      "source": [
        "# Let's make a create_model() function to create a model from url\n",
        "\n",
        "def create_model(model_url, num_classes=10):\n",
        "  \"\"\"\n",
        "  Takes a pretrained model url and creates a keras Sequential model instance with it.\n",
        "  \n",
        "  Args:\n",
        "  - model_url(str) : A tensorflow_hub feature extraction URL\n",
        "  - num_classes (int): Number of output neurons in the output layers\n",
        "    should be same as number of classes to be classified. default = 10\n",
        "  \n",
        "  Returns:\n",
        "  A compiled Sequential model with model_url as feature extraction layer \n",
        "  and a Dense output layer with num_classes output neurons \n",
        "  \"\"\"\n",
        "  # dowload the pretrained model and save it as a keras layer\n",
        "\n",
        "  feature_extractor_layer = hub.KerasLayer(model_url,\n",
        "                                           trainable = False,\n",
        "                                           input_shape = IMAGE_SHAPE + (3,),\n",
        "                                           name = 'feature_extraction_layer')\n",
        "  # feature_extractor_layer.build([None,224,224,3])\n",
        "  \n",
        "  # Create a model\n",
        "  model = tf.keras.Sequential([\n",
        "        feature_extractor_layer,\n",
        "        layers.Dense(num_classes,\n",
        "                     activation = 'softmax',\n",
        "                     name = 'output_layer')\n",
        "  ])\n",
        "  model.compile(loss = 'categorical_crossentropy',\n",
        "                optimizer = tf.keras.optimizers.Adam(),\n",
        "                metrics = ['accuracy']) \n",
        "\n",
        "  return model"
      ],
      "metadata": {
        "id": "G-kVxM1KOKl-"
      },
      "execution_count": null,
      "outputs": []
    },
    {
      "cell_type": "code",
      "source": [
        "# create a resnet model\n",
        "resnet_model = create_model(resnet_url,num_classes = 10)"
      ],
      "metadata": {
        "id": "vJA9curWQ3qS"
      },
      "execution_count": null,
      "outputs": []
    },
    {
      "cell_type": "code",
      "source": [
        "# resnet_model.compile(loss = 'categorical_crossentropy',\n",
        "#                      optimizer = tf.keras.optimizers.Adam(),\n",
        "#                      metrics = ['accuracy'])"
      ],
      "metadata": {
        "id": "obW_n5VZXSGI"
      },
      "execution_count": null,
      "outputs": []
    },
    {
      "cell_type": "code",
      "source": [
        "resnet_model.summary()"
      ],
      "metadata": {
        "colab": {
          "base_uri": "https://localhost:8080/"
        },
        "id": "PVadtmNXRrVW",
        "outputId": "dd552be0-9907-4e52-bc6c-a2a70ed5cafa"
      },
      "execution_count": null,
      "outputs": [
        {
          "output_type": "stream",
          "name": "stdout",
          "text": [
            "Model: \"sequential\"\n",
            "_________________________________________________________________\n",
            " Layer (type)                Output Shape              Param #   \n",
            "=================================================================\n",
            " feature_extraction_layer (K  (None, 2048)             23564800  \n",
            " erasLayer)                                                      \n",
            "                                                                 \n",
            " output_layer (Dense)        (None, 10)                20490     \n",
            "                                                                 \n",
            "=================================================================\n",
            "Total params: 23,585,290\n",
            "Trainable params: 20,490\n",
            "Non-trainable params: 23,564,800\n",
            "_________________________________________________________________\n"
          ]
        }
      ]
    },
    {
      "cell_type": "code",
      "source": [
        "resnet_history = resnet_model.fit(train_data_10_percent,\n",
        "                              epochs = 5,\n",
        "                              steps_per_epoch = len(train_data_10_percent),\n",
        "                              validation_data = test_data,\n",
        "                              validation_steps = len(test_data),\n",
        "                              callbacks = [create_tensorboard_callback(dir_name = 'trf_learning_experiments',\n",
        "                                                                       experiment_name = 'resnet50V2_experiment'\n",
        "                                                                       )])"
      ],
      "metadata": {
        "colab": {
          "base_uri": "https://localhost:8080/"
        },
        "id": "GANHk9mnRvkP",
        "outputId": "12cf1caa-3956-4dbc-8f5a-08a5319ec585"
      },
      "execution_count": null,
      "outputs": [
        {
          "output_type": "stream",
          "name": "stdout",
          "text": [
            "saving tensorboard log files to \"trf_learning_experiments/resnet50V2_experiment/211217-104502\".\n",
            "Epoch 1/5\n",
            "24/24 [==============================] - 41s 1s/step - loss: 1.9466 - accuracy: 0.3520 - val_loss: 1.2305 - val_accuracy: 0.6240\n",
            "Epoch 2/5\n",
            "24/24 [==============================] - 26s 1s/step - loss: 0.8982 - accuracy: 0.7453 - val_loss: 0.8437 - val_accuracy: 0.7412\n",
            "Epoch 3/5\n",
            "24/24 [==============================] - 23s 988ms/step - loss: 0.6247 - accuracy: 0.8200 - val_loss: 0.7405 - val_accuracy: 0.7676\n",
            "Epoch 4/5\n",
            "24/24 [==============================] - 22s 930ms/step - loss: 0.4792 - accuracy: 0.8693 - val_loss: 0.7039 - val_accuracy: 0.7692\n",
            "Epoch 5/5\n",
            "24/24 [==============================] - 22s 931ms/step - loss: 0.3822 - accuracy: 0.9160 - val_loss: 0.6781 - val_accuracy: 0.7844\n"
          ]
        }
      ]
    },
    {
      "cell_type": "code",
      "source": [
        "# let's create a function to plot our loss curves...\n",
        "## we can always put into a script file for furture use. all we need to do is to import these functions into our working environment.\n",
        "import matplotlib.pyplot as plt\n",
        "\n",
        "def plot_loss_curves(history):\n",
        "  \"\"\"\n",
        "  Returns separate loss curves for training and validation metrics / loss\n",
        "\n",
        "  Args:\n",
        "  - history: Tensorflow history object\n",
        "\n",
        "  Retruns:\n",
        "  - Plots for Loss and accuracy for training and validation separately\n",
        "  \"\"\"\n",
        "\n",
        "  loss = history.history['loss']\n",
        "  val_loss = history.history['val_loss']\n",
        "\n",
        "  accuracy = history.history['accuracy']\n",
        "  val_accuracy = history.history['val_accuracy']\n",
        "\n",
        "  epochs = range(len(history.history['loss']))\n",
        "\n",
        "  #plot curves\n",
        "  plt.figure(figsize = (20,7))\n",
        "  # plt.subplots(1,2,1)\n",
        "  plt.plot(epochs,loss,label = 'Training loss')\n",
        "  plt.plot(epochs,val_loss, label = 'Validation loss')\n",
        "  plt.title('Training vs Validation loss curves')\n",
        "  plt.legend()\n",
        "  plt.xlabel('epochs')\n",
        "\n",
        "  plt.figure(figsize = (20,7))\n",
        "  # plt.subplots(1,2,2)\n",
        "  plt.plot(epochs, accuracy, label = 'Training accuracy')\n",
        "  plt.plot(epochs, val_accuracy, label = 'Validation accuracy')\n",
        "  plt.title('Training vs Validation Accuracy curves')\n",
        "  plt.xlabel('epochs')\n",
        "  plt.legend()\n"
      ],
      "metadata": {
        "id": "N_RN81XT2u2L"
      },
      "execution_count": null,
      "outputs": []
    },
    {
      "cell_type": "code",
      "source": [
        "plot_loss_curves(resnet_history)"
      ],
      "metadata": {
        "colab": {
          "base_uri": "https://localhost:8080/",
          "height": 634
        },
        "id": "4ooI5dfc2usi",
        "outputId": "ecdb8bd7-887a-422c-c6c9-1e9997ca7572"
      },
      "execution_count": null,
      "outputs": [
        {
          "output_type": "display_data",
          "data": {
            "image/png": "[encoded data removed]",
            "text/plain": [
              "<Figure size 1440x504 with 1 Axes>"
            ]
          },
          "metadata": {
            "needs_background": "light"
          }
        },
        {
          "output_type": "display_data",
          "data": {
            "image/png": "[encoded data removed]",
            "text/plain": [
              "<Figure size 1440x504 with 1 Axes>"
            ]
          },
          "metadata": {
            "needs_background": "light"
          }
        }
      ]
    },
    {
      "cell_type": "markdown",
      "source": [
        "# Creating Efficientnet model"
      ],
      "metadata": {
        "id": "P5FQ6mCo2uhz"
      }
    },
    {
      "cell_type": "code",
      "source": [
        "# Create Efficientnet feature extractor model - details on https://ai.googleblog.com/2019/05/efficientnet-improving-accuracy-and.html#:~:text=EfficientNet%2DB0%20is%20the%20baseline,than%20the%20best%20existing%20CNN.\n",
        "efficientnet_model = create_model('https://tfhub.dev/google/imagenet/efficientnet_v2_imagenet1k_b0/feature_vector/2',\n",
        "                                  num_classes = 10)\n",
        "\n",
        "\n",
        "# Compile efficientnet model\n",
        "\n",
        "efficientnet_model.compile(loss = 'categorical_crossentropy',\n",
        "                           optimizer = tf.keras.optimizers.Adam(),\n",
        "                           metrics = ['accuracy'])\n",
        "\n",
        "# Fit model to 10% dataset\n",
        "\n",
        "efficient_history = efficientnet_model.fit(train_data_10_percent,\n",
        "                                           epochs = 5,\n",
        "                                           steps_per_epoch = len(train_data_10_percent),\n",
        "                                           validation_data = test_data,\n",
        "                                           validation_steps = len(test_data),\n",
        "                                           callbacks = [create_tensorboard_callback(dir_name = 'tensorflow_hub',\n",
        "                                                                                    experiment_name = 'efficientnet_10_percent')])"
      ],
      "metadata": {
        "colab": {
          "base_uri": "https://localhost:8080/"
        },
        "id": "L-KX86Iv6Him",
        "outputId": "2a9c1650-1603-4169-8f45-c5bd74610860"
      },
      "execution_count": null,
      "outputs": [
        {
          "output_type": "stream",
          "name": "stdout",
          "text": [
            "saving tensorboard log files to \"tensorflow_hub/efficientnet_10_percent/211217-105201\".\n",
            "Epoch 1/5\n",
            "24/24 [==============================] - 34s 1s/step - loss: 1.9550 - accuracy: 0.3440 - val_loss: 1.5190 - val_accuracy: 0.5984\n",
            "Epoch 2/5\n",
            "24/24 [==============================] - 19s 803ms/step - loss: 1.3162 - accuracy: 0.6840 - val_loss: 1.1347 - val_accuracy: 0.7024\n",
            "Epoch 3/5\n",
            "24/24 [==============================] - 19s 795ms/step - loss: 1.0144 - accuracy: 0.7440 - val_loss: 0.9648 - val_accuracy: 0.7372\n",
            "Epoch 4/5\n",
            "24/24 [==============================] - 19s 805ms/step - loss: 0.8509 - accuracy: 0.8027 - val_loss: 0.8653 - val_accuracy: 0.7548\n",
            "Epoch 5/5\n",
            "24/24 [==============================] - 19s 802ms/step - loss: 0.7426 - accuracy: 0.8147 - val_loss: 0.8058 - val_accuracy: 0.7640\n"
          ]
        }
      ]
    },
    {
      "cell_type": "code",
      "source": [
        "plot_loss_curves(efficient_history)"
      ],
      "metadata": {
        "colab": {
          "base_uri": "https://localhost:8080/",
          "height": 634
        },
        "id": "ny7ZRyeL6HZ1",
        "outputId": "77e521aa-559b-41a7-fecd-aea7991ad366"
      },
      "execution_count": null,
      "outputs": [
        {
          "output_type": "display_data",
          "data": {
            "image/png": "[encoded data removed]",
            "text/plain": [
              "<Figure size 1440x504 with 1 Axes>"
            ]
          },
          "metadata": {
            "needs_background": "light"
          }
        },
        {
          "output_type": "display_data",
          "data": {
            "image/png": "[encoded data removed]",
            "text/plain": [
              "<Figure size 1440x504 with 1 Axes>"
            ]
          },
          "metadata": {
            "needs_background": "light"
          }
        }
      ]
    },
    {
      "cell_type": "markdown",
      "source": [
        "# efficientnet B0 old version"
      ],
      "metadata": {
        "id": "MA1trAWD__A2"
      }
    },
    {
      "cell_type": "code",
      "source": [
        "efficientnet_model = create_model(efficientnet_url, num_classes=10)"
      ],
      "metadata": {
        "id": "qguRb_-ySoCh"
      },
      "execution_count": null,
      "outputs": []
    },
    {
      "cell_type": "code",
      "source": [
        "efficientnet_model.compile(loss = 'categorical_crossentropy',\n",
        "                           optimizer = tf.keras.optimizers.Adam(),\n",
        "                           metrics = ['accuracy'])"
      ],
      "metadata": {
        "id": "ebZt6RaJc0eD"
      },
      "execution_count": null,
      "outputs": []
    },
    {
      "cell_type": "code",
      "source": [
        "efficientnet_model.summary()"
      ],
      "metadata": {
        "colab": {
          "base_uri": "https://localhost:8080/"
        },
        "id": "DqeUipBUdIfM",
        "outputId": "913d64cd-2cec-4820-aa99-e5ac576b3c2e"
      },
      "execution_count": null,
      "outputs": [
        {
          "output_type": "stream",
          "name": "stdout",
          "text": [
            "Model: \"sequential_2\"\n",
            "_________________________________________________________________\n",
            " Layer (type)                Output Shape              Param #   \n",
            "=================================================================\n",
            " feature_extraction_layer (K  (None, 1280)             4049564   \n",
            " erasLayer)                                                      \n",
            "                                                                 \n",
            " output_layer (Dense)        (None, 10)                12810     \n",
            "                                                                 \n",
            "=================================================================\n",
            "Total params: 4,062,374\n",
            "Trainable params: 12,810\n",
            "Non-trainable params: 4,049,564\n",
            "_________________________________________________________________\n"
          ]
        }
      ]
    },
    {
      "cell_type": "code",
      "source": [
        "efficientnet_model.fit(train_data_10_percent,\n",
        "                       epochs = 5)"
      ],
      "metadata": {
        "colab": {
          "base_uri": "https://localhost:8080/"
        },
        "id": "TjGQuyCBdLNl",
        "outputId": "c82095b5-a3d0-4d5d-fc8e-2d6336a71c9f"
      },
      "execution_count": null,
      "outputs": [
        {
          "output_type": "stream",
          "name": "stdout",
          "text": [
            "Epoch 1/5\n",
            "24/24 [==============================] - 16s 225ms/step - loss: 1.8679 - accuracy: 0.4120\n",
            "Epoch 2/5\n",
            "24/24 [==============================] - 5s 191ms/step - loss: 1.0809 - accuracy: 0.7693\n",
            "Epoch 3/5\n",
            "24/24 [==============================] - 5s 191ms/step - loss: 0.7599 - accuracy: 0.8373\n",
            "Epoch 4/5\n",
            "24/24 [==============================] - 5s 191ms/step - loss: 0.6063 - accuracy: 0.8653\n",
            "Epoch 5/5\n",
            "24/24 [==============================] - 5s 190ms/step - loss: 0.5134 - accuracy: 0.8853\n"
          ]
        },
        {
          "output_type": "execute_result",
          "data": {
            "text/plain": [
              "<keras.callbacks.History at 0x7f1f77488d90>"
            ]
          },
          "metadata": {},
          "execution_count": 34
        }
      ]
    },
    {
      "cell_type": "code",
      "source": [
        "efficientnet_model.evaluate(test_data)"
      ],
      "metadata": {
        "colab": {
          "base_uri": "https://localhost:8080/"
        },
        "id": "Z262fxZedWV-",
        "outputId": "777db0eb-c83c-4a81-dcb6-8cd393b5ed3b"
      },
      "execution_count": null,
      "outputs": [
        {
          "output_type": "stream",
          "name": "stdout",
          "text": [
            "79/79 [==============================] - 17s 198ms/step - loss: 0.5635 - accuracy: 0.8572\n"
          ]
        },
        {
          "output_type": "execute_result",
          "data": {
            "text/plain": [
              "[0.5634743571281433, 0.857200026512146]"
            ]
          },
          "metadata": {},
          "execution_count": 35
        }
      ]
    },
    {
      "cell_type": "markdown",
      "source": [
        "### Can not plot loss curves as we have not created a history object for our last model."
      ],
      "metadata": {
        "id": "uTGuaIq8CP4s"
      }
    },
    {
      "cell_type": "markdown",
      "source": [
        "# Other experiments"
      ],
      "metadata": {
        "id": "j_vHsKx0CK5y"
      }
    },
    {
      "cell_type": "code",
      "source": [
        "inputs = layers.Input(shape = (224,224,3))\n",
        "x = layers.GlobalAveragePooling2D()(inputs)\n",
        "x = layers.Dense(10, activation = 'relu')(x)\n",
        "outputs = layers.Dense(10, activation = 'softmax')(x)\n",
        "\n",
        "model = tf.keras.Model(inputs, outputs)\n",
        "\n",
        "model.compile(loss = 'categorical_crossentropy',\n",
        "              optimizer = tf.keras.optimizers.Adam(),\n",
        "              metrics = ['accuracy'])\n",
        "\n",
        "model.fit(train_data_10_percent,\n",
        "          epochs = 2)"
      ],
      "metadata": {
        "id": "90GgLEkcdpA_",
        "colab": {
          "base_uri": "https://localhost:8080/"
        },
        "outputId": "f06f49dd-8377-45dc-f1cb-e718044bbfe1"
      },
      "execution_count": null,
      "outputs": [
        {
          "output_type": "stream",
          "name": "stdout",
          "text": [
            "Epoch 1/2\n",
            "24/24 [==============================] - 4s 150ms/step - loss: 2.3167 - accuracy: 0.1000\n",
            "Epoch 2/2\n",
            "24/24 [==============================] - 4s 150ms/step - loss: 2.3118 - accuracy: 0.1000\n"
          ]
        },
        {
          "output_type": "execute_result",
          "data": {
            "text/plain": [
              "<keras.callbacks.History at 0x7f1f74edac90>"
            ]
          },
          "metadata": {},
          "execution_count": 36
        }
      ]
    },
    {
      "cell_type": "code",
      "source": [
        "model.summary()"
      ],
      "metadata": {
        "colab": {
          "base_uri": "https://localhost:8080/"
        },
        "id": "ws2If1t8ppf4",
        "outputId": "e0c491c8-da68-4fa7-db98-1a1aa72b8edf"
      },
      "execution_count": null,
      "outputs": [
        {
          "output_type": "stream",
          "name": "stdout",
          "text": [
            "Model: \"model\"\n",
            "_________________________________________________________________\n",
            " Layer (type)                Output Shape              Param #   \n",
            "=================================================================\n",
            " input_1 (InputLayer)        [(None, 224, 224, 3)]     0         \n",
            "                                                                 \n",
            " global_average_pooling2d (G  (None, 3)                0         \n",
            " lobalAveragePooling2D)                                          \n",
            "                                                                 \n",
            " dense (Dense)               (None, 10)                40        \n",
            "                                                                 \n",
            " dense_1 (Dense)             (None, 10)                110       \n",
            "                                                                 \n",
            "=================================================================\n",
            "Total params: 150\n",
            "Trainable params: 150\n",
            "Non-trainable params: 0\n",
            "_________________________________________________________________\n"
          ]
        }
      ]
    },
    {
      "cell_type": "code",
      "source": [
        "model = tf.keras.Sequential([\n",
        "    layers.Input(shape=(224,224,3)),\n",
        "    layers.GlobalAveragePooling2D(),\n",
        "    layers.Dense(10, activation = 'softmax')\n",
        "])\n",
        "\n",
        "model.compile(loss = 'categorical_crossentropy',\n",
        "              optimizer = tf.keras.optimizers.Adam(),\n",
        "              metrics = ['accuracy'])\n"
      ],
      "metadata": {
        "id": "-ztwmxWYqEWl"
      },
      "execution_count": null,
      "outputs": []
    },
    {
      "cell_type": "code",
      "source": [
        "model.summary()"
      ],
      "metadata": {
        "colab": {
          "base_uri": "https://localhost:8080/"
        },
        "id": "0ul_0U7crXdM",
        "outputId": "f91b7146-2f92-4a20-ba66-ff84804b1e77"
      },
      "execution_count": null,
      "outputs": [
        {
          "output_type": "stream",
          "name": "stdout",
          "text": [
            "Model: \"sequential_3\"\n",
            "_________________________________________________________________\n",
            " Layer (type)                Output Shape              Param #   \n",
            "=================================================================\n",
            " global_average_pooling2d_1   (None, 3)                0         \n",
            " (GlobalAveragePooling2D)                                        \n",
            "                                                                 \n",
            " dense_2 (Dense)             (None, 10)                40        \n",
            "                                                                 \n",
            "=================================================================\n",
            "Total params: 40\n",
            "Trainable params: 40\n",
            "Non-trainable params: 0\n",
            "_________________________________________________________________\n"
          ]
        }
      ]
    },
    {
      "cell_type": "code",
      "source": [
        "model.fit(train_data_10_percent,\n",
        "          epochs = 2)"
      ],
      "metadata": {
        "colab": {
          "base_uri": "https://localhost:8080/"
        },
        "id": "Aad6rHu3rYur",
        "outputId": "6470f43f-0c29-4dbe-a089-844c24e16b15"
      },
      "execution_count": null,
      "outputs": [
        {
          "output_type": "stream",
          "name": "stdout",
          "text": [
            "Epoch 1/2\n",
            "24/24 [==============================] - 4s 151ms/step - loss: 2.3415 - accuracy: 0.0987\n",
            "Epoch 2/2\n",
            "24/24 [==============================] - 4s 151ms/step - loss: 2.3352 - accuracy: 0.0987\n"
          ]
        },
        {
          "output_type": "execute_result",
          "data": {
            "text/plain": [
              "<keras.callbacks.History at 0x7f1f74564b10>"
            ]
          },
          "metadata": {},
          "execution_count": 40
        }
      ]
    },
    {
      "cell_type": "code",
      "source": [
        "feature_extractor = hub.KerasLayer(resnet_url, trainable = False)\n",
        "feature_extractor.build([None,224,224,3])\n",
        "model = tf.keras.Sequential([\n",
        "  feature_extractor,\n",
        "  layers.Dense(10, activation = 'softmax')\n",
        "])\n",
        "\n",
        "# model.build([224,224,3])\n",
        "\n",
        "model.compile(loss = 'categorical_crossentropy',\n",
        "              metrics = ['accuracy'],\n",
        "              optimizer = tf.keras.optimizers.Adam())\n"
      ],
      "metadata": {
        "id": "86f5obJxrfJT"
      },
      "execution_count": null,
      "outputs": []
    },
    {
      "cell_type": "code",
      "source": [
        "model.fit(train_data_10_percent,\n",
        "          epochs = 2)"
      ],
      "metadata": {
        "colab": {
          "base_uri": "https://localhost:8080/"
        },
        "id": "wNp-KQHoxcXB",
        "outputId": "be3f2883-4e0c-4eca-eb70-68773dc9052d"
      },
      "execution_count": null,
      "outputs": [
        {
          "output_type": "stream",
          "name": "stdout",
          "text": [
            "Epoch 1/2\n",
            "24/24 [==============================] - 10s 213ms/step - loss: 1.9020 - accuracy: 0.3773\n",
            "Epoch 2/2\n",
            "24/24 [==============================] - 5s 212ms/step - loss: 0.9137 - accuracy: 0.7200\n"
          ]
        },
        {
          "output_type": "execute_result",
          "data": {
            "text/plain": [
              "<keras.callbacks.History at 0x7f1f73893490>"
            ]
          },
          "metadata": {},
          "execution_count": 42
        }
      ]
    },
    {
      "cell_type": "code",
      "source": [
        ""
      ],
      "metadata": {
        "id": "xKS7EewhyJZU"
      },
      "execution_count": null,
      "outputs": []
    }
  ]
}